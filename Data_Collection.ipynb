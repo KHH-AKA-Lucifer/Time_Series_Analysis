{
 "cells": [
  {
   "cell_type": "markdown",
   "metadata": {},
   "source": [
    "## Collecting Historical Gold Price Patterns "
   ]
  },
  {
   "cell_type": "code",
   "execution_count": null,
   "metadata": {},
   "outputs": [],
   "source": [
    "# import required libraries\n",
    "import pandas as pd\n",
    "import numpy as np\n",
    "import yfinance as yf \n",
    "import seaborn as sns\n",
    "import matplotlib.pyplot as plt\n",
    "from statsmodels.tsa.arima.model import ARIMA\n",
    "from pandas.plotting import autocorrelation_plot\n",
    "from statsmodels.tsa.stattools import adfuller, acf, pacf\n",
    "from statsmodels.graphics.tsaplots import plot_acf, plot_pacf\n",
    "from sklearn.metrics import mean_absolute_error, mean_squared_error\n",
    "from statsmodels.tsa.seasonal import seasonal_decompose"
   ]
  },
  {
   "cell_type": "code",
   "execution_count": null,
   "metadata": {},
   "outputs": [],
   "source": [
    "# download the gold data from yfinance module \n",
    "\n",
    "# one day - 1 min interval\n",
    "gold_one_day = yf.download('GC=F', interval=\"1m\")\n",
    "# one month - 5 min interval\n",
    "gold_one_month = yf.download('GC=F', interval=\"5m\", period=\"1mo\")\n",
    "# one year - 1 day interval\n",
    "gold_one_year = yf.download('GC=F', period=\"1y\")\n",
    "# ten years - 1 day interval \n",
    "gold_ten_year = yf.download('GC=F', period=\"10y\")"
   ]
  },
  {
   "cell_type": "code",
   "execution_count": null,
   "metadata": {},
   "outputs": [],
   "source": [
    "# save the data as csv file\n",
    "gold_one_day.to_csv('data/gold_one_day.csv')\n",
    "gold_one_month.to_csv('data/gold_one_month.csv')\n",
    "gold_one_year.to_csv('data/gold_one_year.csv')\n",
    "gold_ten_year.to_csv('data/gold_ten_year.csv')"
   ]
  },
  {
   "cell_type": "code",
   "execution_count": null,
   "metadata": {},
   "outputs": [],
   "source": [
    "def data_wrangle(path, droped_columns):\n",
    "    \"\"\" A method that will clean the original dataset, \n",
    "        restructure the dataset and fill the missing values.\n",
    "        \n",
    "        input\n",
    "        -----\n",
    "        path: data path \n",
    "        dropped_columns: columns to be dropped\"\"\"\n",
    "    \n",
    "    # read the dataset through the path\n",
    "    df=pd.read_csv(path)\n",
    "    # set 'Date' as the dataframe index\n",
    "    df = df.set_index('Date')\n",
    "    # drop the unnecessary columns that are already specified \n",
    "    df = df.drop(columns=droped_columns)\n",
    "    \n",
    "\n",
    "    return df"
   ]
  },
  {
   "cell_type": "code",
   "execution_count": null,
   "metadata": {},
   "outputs": [],
   "source": [
    "df_one_year = data_wrangle(path = \"data/gold_one_year.csv\", droped_columns=\"Adj Close\")\n",
    "df_one_year.head(5)\n",
    "print('-'*100)\n",
    "# check the information of the dataframe \n",
    "df_one_year.info()\n",
    "print('-'*100)\n",
    "# display the statics of the data frame \n",
    "gold_one_year.describe()\n"
   ]
  },
  {
   "cell_type": "code",
   "execution_count": null,
   "metadata": {},
   "outputs": [],
   "source": [
    "# checkpoints \n",
    "print(df_one_year.iloc[[0]])\n",
    "print('-'*100)\n",
    "print(df_one_year.iloc[[0]].index)\n",
    "print('-'*100)\n",
    "print(df_one_year.iloc[[0]][\"High\"])"
   ]
  },
  {
   "cell_type": "code",
   "execution_count": null,
   "metadata": {},
   "outputs": [],
   "source": [
    "interval = 30\n",
    "for start in range(0, len(df_one_year), interval):\n",
    "    end = start + 30\n",
    "    segment = df_one_year[start:end]\n",
    "#print(segment.index)\n",
    "#print(segment.index.day)\n",
    "#print(segment[:end])\n",
    "for i in segment[:end]:\n",
    "    for key, value in zip(segment.index, segment[:end][i]):\n",
    "        print(f\"{i}\")\n",
    "        #print(key.year, key.month, key.day)\n",
    "        print(value)"
   ]
  },
  {
   "cell_type": "code",
   "execution_count": null,
   "metadata": {},
   "outputs": [],
   "source": [
    "# Function to plot and save images \n",
    "def plot_images(data, interval, output_dir):\n",
    "    \"\"\"A function that segements out the date inteval and plot\n",
    "    on a figure.\n",
    "    \n",
    "    input\n",
    "    -----\n",
    "    data : dataframe \n",
    "    intreval : date interval\n",
    "    \n",
    "    output\n",
    "    ------\n",
    "    plotted figure\"\"\"\n",
    "    # loop the whole dataframe with interval (days) steps\n",
    "    for start in range(0, len(data) - interval, interval):\n",
    "        # define the end \n",
    "        end = start + interval\n",
    "        # segment the dataframe with specifed start and end index\n",
    "        segment = data[start:end]\n",
    "        # loop inside each segment \n",
    "        for label in segment[:end]:\n",
    "            #print(label)\n",
    "            # zip the segment index and label value \n",
    "            #for index, value in zip(segment.index, segment[:end][label]):\n",
    "                #print(f\"{label}: {index} {value}\")\n",
    "            plt.figure(figsize=(20, 10), dpi=300)\n",
    "            plt.plot(segment.index, segment[label], linewidth=3)\n",
    "            plt.title(f\"{label} from {segment.index[0]} to {segment.index[-1]}\")\n",
    "            plt.xlabel(\"Date\")\n",
    "            # Rotating X-axis labels\n",
    "            plt.xticks(rotation = 90)\n",
    "            plt.ylabel(label)\n",
    "            plt.savefig(f\"{output_dir}/{label}_{segment.index[0]}_{segment.index[-1]}.png\")\n",
    "            plt.close()\n",
    "        "
   ]
  },
  {
   "cell_type": "code",
   "execution_count": null,
   "metadata": {},
   "outputs": [],
   "source": [
    "plot_images(data = df_one_year, interval = 30, output_dir = \"images\")"
   ]
  },
  {
   "cell_type": "code",
   "execution_count": null,
   "metadata": {},
   "outputs": [],
   "source": [
    "# Function to plot and save images\n",
    "\"\"\"\n",
    "def plot_and_save_images(data, interval, output_dir):\n",
    "    for start in range(0, len(data) - interval, interval):\n",
    "        end = start + interval\n",
    "        segment = data[start:end]\n",
    "        plt.figure(figsize=(10, 5), dpi=300)\n",
    "        plt.plot(segment.index, segment['Price'], linewidth=3)\n",
    "        plt.title(f\"Gold Price from {segment.index[0]} to {segment.index[-1]}\")\n",
    "        plt.xlabel(\"Date\")\n",
    "        plt.ylabel(\"Price\")\n",
    "        #plt.savefig(f\"{output_dir}/gold_price_{start}_{end}.png\")\n",
    "        #plt.close()\n",
    "\"\"\""
   ]
  }
 ],
 "metadata": {
  "kernelspec": {
   "display_name": "Python 3",
   "language": "python",
   "name": "python3"
  },
  "language_info": {
   "codemirror_mode": {
    "name": "ipython",
    "version": 3
   },
   "file_extension": ".py",
   "mimetype": "text/x-python",
   "name": "python",
   "nbconvert_exporter": "python",
   "pygments_lexer": "ipython3",
   "version": "3.10.0"
  }
 },
 "nbformat": 4,
 "nbformat_minor": 2
}
