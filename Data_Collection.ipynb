{
 "cells": [
  {
   "cell_type": "markdown",
   "metadata": {},
   "source": [
    "## Collecting Historical Gold Price Patterns "
   ]
  },
  {
   "cell_type": "code",
   "execution_count": 1,
   "metadata": {},
   "outputs": [],
   "source": [
    "# import required libraries\n",
    "import pandas as pd\n",
    "import numpy as np\n",
    "import yfinance as yf \n",
    "import seaborn as sns\n",
    "import mplfinance as mpf\n",
    "import matplotlib.pyplot as plt\n",
    "import matplotlib.dates as mdates\n",
    "from statsmodels.tsa.arima.model import ARIMA\n",
    "from pandas.plotting import autocorrelation_plot\n",
    "from statsmodels.tsa.stattools import adfuller, acf, pacf\n",
    "from statsmodels.graphics.tsaplots import plot_acf, plot_pacf\n",
    "from sklearn.metrics import mean_absolute_error, mean_squared_error\n",
    "from statsmodels.tsa.seasonal import seasonal_decompose"
   ]
  },
  {
   "cell_type": "code",
   "execution_count": 2,
   "metadata": {},
   "outputs": [
    {
     "name": "stderr",
     "output_type": "stream",
     "text": [
      "[*********************100%%**********************]  1 of 1 completed\n",
      "[*********************100%%**********************]  1 of 1 completed\n",
      "[*********************100%%**********************]  1 of 1 completed\n",
      "[*********************100%%**********************]  1 of 1 completed\n"
     ]
    }
   ],
   "source": [
    "# download the gold data from yfinance module \n",
    "\n",
    "# one day - 1 min interval\n",
    "gold_one_day = yf.download('GC=F', interval=\"1m\")\n",
    "# one month - 5 min interval\n",
    "gold_one_month = yf.download('GC=F', interval=\"5m\", period=\"1mo\")\n",
    "# one year - 1 day interval\n",
    "gold_one_year = yf.download('GC=F', period=\"1y\")\n",
    "# ten years - 1 day interval \n",
    "gold_ten_year = yf.download('GC=F', period=\"10y\")"
   ]
  },
  {
   "cell_type": "code",
   "execution_count": 3,
   "metadata": {},
   "outputs": [],
   "source": [
    "# save the data as csv file\n",
    "gold_one_day.to_csv('data/gold_one_day.csv')\n",
    "gold_one_month.to_csv('data/gold_one_month.csv')\n",
    "gold_one_year.to_csv('data/gold_one_year.csv')\n",
    "gold_ten_year.to_csv('data/gold_ten_year.csv')"
   ]
  },
  {
   "cell_type": "code",
   "execution_count": 4,
   "metadata": {},
   "outputs": [],
   "source": [
    "def data_wrangle(path, droped_columns):\n",
    "    \"\"\" A method that will clean the original dataset, \n",
    "        restructure the dataset and fill the missing values.\n",
    "        \n",
    "        input\n",
    "        -----\n",
    "        path: data path \n",
    "        dropped_columns: columns to be dropped\"\"\"\n",
    "    \n",
    "    # read the dataset through the path\n",
    "    df=pd.read_csv(path, index_col=0, parse_dates=True)\n",
    "    # drop the unnecessary columns that are already specified \n",
    "    df = df.drop(columns=droped_columns)\n",
    "    \n",
    "    # return the dataframe\n",
    "    return df"
   ]
  },
  {
   "cell_type": "code",
   "execution_count": 5,
   "metadata": {},
   "outputs": [
    {
     "name": "stdout",
     "output_type": "stream",
     "text": [
      "                   Open         High          Low        Close  Volume\n",
      "Date                                                                  \n",
      "2023-07-17  1954.000000  1956.500000  1946.599976  1952.400024      29\n",
      "2023-07-18  1968.800049  1978.400024  1963.400024  1977.199951      83\n",
      "2023-07-19  1977.000000  1977.500000  1973.000000  1977.500000      35\n",
      "2023-07-20  1973.699951  1973.699951  1965.599976  1968.300049     638\n",
      "2023-07-21  1961.800049  1964.300049  1961.800049  1964.300049      50\n",
      "----------------------------------------------------------------------------------------------------\n",
      "<class 'pandas.core.frame.DataFrame'>\n",
      "DatetimeIndex: 254 entries, 2023-07-17 to 2024-07-17\n",
      "Data columns (total 5 columns):\n",
      " #   Column  Non-Null Count  Dtype  \n",
      "---  ------  --------------  -----  \n",
      " 0   Open    254 non-null    float64\n",
      " 1   High    254 non-null    float64\n",
      " 2   Low     254 non-null    float64\n",
      " 3   Close   254 non-null    float64\n",
      " 4   Volume  254 non-null    int64  \n",
      "dtypes: float64(4), int64(1)\n",
      "memory usage: 11.9 KB\n",
      "----------------------------------------------------------------------------------------------------\n"
     ]
    },
    {
     "data": {
      "text/html": [
       "<div>\n",
       "<style scoped>\n",
       "    .dataframe tbody tr th:only-of-type {\n",
       "        vertical-align: middle;\n",
       "    }\n",
       "\n",
       "    .dataframe tbody tr th {\n",
       "        vertical-align: top;\n",
       "    }\n",
       "\n",
       "    .dataframe thead th {\n",
       "        text-align: right;\n",
       "    }\n",
       "</style>\n",
       "<table border=\"1\" class=\"dataframe\">\n",
       "  <thead>\n",
       "    <tr style=\"text-align: right;\">\n",
       "      <th></th>\n",
       "      <th>Open</th>\n",
       "      <th>High</th>\n",
       "      <th>Low</th>\n",
       "      <th>Close</th>\n",
       "      <th>Volume</th>\n",
       "    </tr>\n",
       "  </thead>\n",
       "  <tbody>\n",
       "    <tr>\n",
       "      <th>count</th>\n",
       "      <td>254.000000</td>\n",
       "      <td>254.000000</td>\n",
       "      <td>254.000000</td>\n",
       "      <td>254.000000</td>\n",
       "      <td>254.000000</td>\n",
       "    </tr>\n",
       "    <tr>\n",
       "      <th>mean</th>\n",
       "      <td>2096.454327</td>\n",
       "      <td>2105.972833</td>\n",
       "      <td>2088.076772</td>\n",
       "      <td>2096.958262</td>\n",
       "      <td>4469.893701</td>\n",
       "    </tr>\n",
       "    <tr>\n",
       "      <th>std</th>\n",
       "      <td>175.343418</td>\n",
       "      <td>179.016966</td>\n",
       "      <td>173.068872</td>\n",
       "      <td>176.813861</td>\n",
       "      <td>24184.421124</td>\n",
       "    </tr>\n",
       "    <tr>\n",
       "      <th>min</th>\n",
       "      <td>1819.000000</td>\n",
       "      <td>1826.300049</td>\n",
       "      <td>1809.400024</td>\n",
       "      <td>1816.599976</td>\n",
       "      <td>1.000000</td>\n",
       "    </tr>\n",
       "    <tr>\n",
       "      <th>25%</th>\n",
       "      <td>1960.149994</td>\n",
       "      <td>1964.575043</td>\n",
       "      <td>1948.274963</td>\n",
       "      <td>1960.750031</td>\n",
       "      <td>47.500000</td>\n",
       "    </tr>\n",
       "    <tr>\n",
       "      <th>50%</th>\n",
       "      <td>2031.399963</td>\n",
       "      <td>2036.849976</td>\n",
       "      <td>2024.000000</td>\n",
       "      <td>2028.000000</td>\n",
       "      <td>179.500000</td>\n",
       "    </tr>\n",
       "    <tr>\n",
       "      <th>75%</th>\n",
       "      <td>2307.674927</td>\n",
       "      <td>2321.924988</td>\n",
       "      <td>2293.724976</td>\n",
       "      <td>2306.924988</td>\n",
       "      <td>540.000000</td>\n",
       "    </tr>\n",
       "    <tr>\n",
       "      <th>max</th>\n",
       "      <td>2473.199951</td>\n",
       "      <td>2487.399902</td>\n",
       "      <td>2466.600098</td>\n",
       "      <td>2472.100098</td>\n",
       "      <td>202373.000000</td>\n",
       "    </tr>\n",
       "  </tbody>\n",
       "</table>\n",
       "</div>"
      ],
      "text/plain": [
       "              Open         High          Low        Close         Volume\n",
       "count   254.000000   254.000000   254.000000   254.000000     254.000000\n",
       "mean   2096.454327  2105.972833  2088.076772  2096.958262    4469.893701\n",
       "std     175.343418   179.016966   173.068872   176.813861   24184.421124\n",
       "min    1819.000000  1826.300049  1809.400024  1816.599976       1.000000\n",
       "25%    1960.149994  1964.575043  1948.274963  1960.750031      47.500000\n",
       "50%    2031.399963  2036.849976  2024.000000  2028.000000     179.500000\n",
       "75%    2307.674927  2321.924988  2293.724976  2306.924988     540.000000\n",
       "max    2473.199951  2487.399902  2466.600098  2472.100098  202373.000000"
      ]
     },
     "execution_count": 5,
     "metadata": {},
     "output_type": "execute_result"
    }
   ],
   "source": [
    "df_one_year = data_wrangle(path = \"data/gold_one_year.csv\", droped_columns=\"Adj Close\")\n",
    "print(df_one_year.head(5))\n",
    "print('-'*100)\n",
    "# check the information of the dataframe \n",
    "df_one_year.info()\n",
    "print('-'*100)\n",
    "# display the statics of the data frame \n",
    "df_one_year.describe()\n"
   ]
  },
  {
   "cell_type": "code",
   "execution_count": 6,
   "metadata": {},
   "outputs": [
    {
     "data": {
      "text/plain": [
       "pandas.core.indexes.datetimes.DatetimeIndex"
      ]
     },
     "execution_count": 6,
     "metadata": {},
     "output_type": "execute_result"
    }
   ],
   "source": [
    "type(df_one_year.index)"
   ]
  },
  {
   "cell_type": "code",
   "execution_count": 7,
   "metadata": {},
   "outputs": [
    {
     "name": "stdout",
     "output_type": "stream",
     "text": [
      "                   Open         High          Low        Close  Volume\n",
      "Date                                                                  \n",
      "2014-07-17  1303.099976  1323.800049  1303.099976  1316.699951      16\n",
      "2014-07-18  1322.699951  1322.699951  1306.199951  1309.199951      27\n",
      "2014-07-21  1311.000000  1315.500000  1311.000000  1313.699951      18\n",
      "2014-07-22  1306.099976  1306.099976  1306.099976  1306.099976       2\n",
      "2014-07-23  1304.500000  1304.500000  1304.500000  1304.500000       0\n",
      "----------------------------------------------------------------------------------------------------\n",
      "<class 'pandas.core.frame.DataFrame'>\n",
      "DatetimeIndex: 2515 entries, 2014-07-17 to 2024-07-17\n",
      "Data columns (total 5 columns):\n",
      " #   Column  Non-Null Count  Dtype  \n",
      "---  ------  --------------  -----  \n",
      " 0   Open    2515 non-null   float64\n",
      " 1   High    2515 non-null   float64\n",
      " 2   Low     2515 non-null   float64\n",
      " 3   Close   2515 non-null   float64\n",
      " 4   Volume  2515 non-null   int64  \n",
      "dtypes: float64(4), int64(1)\n",
      "memory usage: 117.9 KB\n",
      "----------------------------------------------------------------------------------------------------\n"
     ]
    },
    {
     "data": {
      "text/html": [
       "<div>\n",
       "<style scoped>\n",
       "    .dataframe tbody tr th:only-of-type {\n",
       "        vertical-align: middle;\n",
       "    }\n",
       "\n",
       "    .dataframe tbody tr th {\n",
       "        vertical-align: top;\n",
       "    }\n",
       "\n",
       "    .dataframe thead th {\n",
       "        text-align: right;\n",
       "    }\n",
       "</style>\n",
       "<table border=\"1\" class=\"dataframe\">\n",
       "  <thead>\n",
       "    <tr style=\"text-align: right;\">\n",
       "      <th></th>\n",
       "      <th>Open</th>\n",
       "      <th>High</th>\n",
       "      <th>Low</th>\n",
       "      <th>Close</th>\n",
       "      <th>Volume</th>\n",
       "    </tr>\n",
       "  </thead>\n",
       "  <tbody>\n",
       "    <tr>\n",
       "      <th>count</th>\n",
       "      <td>2515.000000</td>\n",
       "      <td>2515.000000</td>\n",
       "      <td>2515.000000</td>\n",
       "      <td>2515.000000</td>\n",
       "      <td>2515.000000</td>\n",
       "    </tr>\n",
       "    <tr>\n",
       "      <th>mean</th>\n",
       "      <td>1540.913002</td>\n",
       "      <td>1548.231611</td>\n",
       "      <td>1533.791293</td>\n",
       "      <td>1541.021430</td>\n",
       "      <td>5296.472366</td>\n",
       "    </tr>\n",
       "    <tr>\n",
       "      <th>std</th>\n",
       "      <td>334.205259</td>\n",
       "      <td>336.370852</td>\n",
       "      <td>332.432474</td>\n",
       "      <td>334.475235</td>\n",
       "      <td>29311.404120</td>\n",
       "    </tr>\n",
       "    <tr>\n",
       "      <th>min</th>\n",
       "      <td>1053.699951</td>\n",
       "      <td>1062.000000</td>\n",
       "      <td>1046.199951</td>\n",
       "      <td>1050.800049</td>\n",
       "      <td>0.000000</td>\n",
       "    </tr>\n",
       "    <tr>\n",
       "      <th>25%</th>\n",
       "      <td>1249.049988</td>\n",
       "      <td>1253.750000</td>\n",
       "      <td>1243.649963</td>\n",
       "      <td>1248.950012</td>\n",
       "      <td>46.000000</td>\n",
       "    </tr>\n",
       "    <tr>\n",
       "      <th>50%</th>\n",
       "      <td>1419.599976</td>\n",
       "      <td>1423.000000</td>\n",
       "      <td>1413.900024</td>\n",
       "      <td>1419.599976</td>\n",
       "      <td>175.000000</td>\n",
       "    </tr>\n",
       "    <tr>\n",
       "      <th>75%</th>\n",
       "      <td>1829.700012</td>\n",
       "      <td>1839.799988</td>\n",
       "      <td>1821.500000</td>\n",
       "      <td>1831.149963</td>\n",
       "      <td>539.000000</td>\n",
       "    </tr>\n",
       "    <tr>\n",
       "      <th>max</th>\n",
       "      <td>2473.199951</td>\n",
       "      <td>2487.399902</td>\n",
       "      <td>2466.600098</td>\n",
       "      <td>2472.100098</td>\n",
       "      <td>386334.000000</td>\n",
       "    </tr>\n",
       "  </tbody>\n",
       "</table>\n",
       "</div>"
      ],
      "text/plain": [
       "              Open         High          Low        Close         Volume\n",
       "count  2515.000000  2515.000000  2515.000000  2515.000000    2515.000000\n",
       "mean   1540.913002  1548.231611  1533.791293  1541.021430    5296.472366\n",
       "std     334.205259   336.370852   332.432474   334.475235   29311.404120\n",
       "min    1053.699951  1062.000000  1046.199951  1050.800049       0.000000\n",
       "25%    1249.049988  1253.750000  1243.649963  1248.950012      46.000000\n",
       "50%    1419.599976  1423.000000  1413.900024  1419.599976     175.000000\n",
       "75%    1829.700012  1839.799988  1821.500000  1831.149963     539.000000\n",
       "max    2473.199951  2487.399902  2466.600098  2472.100098  386334.000000"
      ]
     },
     "execution_count": 7,
     "metadata": {},
     "output_type": "execute_result"
    }
   ],
   "source": [
    "df_ten_year = data_wrangle(path = \"data/gold_ten_year.csv\", droped_columns=\"Adj Close\")\n",
    "print(df_ten_year.head(5))\n",
    "print('-'*100)\n",
    "# check the information of the dataframe \n",
    "df_ten_year.info()\n",
    "print('-'*100)\n",
    "# display the statics of the data frame \n",
    "df_ten_year.describe()"
   ]
  },
  {
   "cell_type": "code",
   "execution_count": 8,
   "metadata": {},
   "outputs": [
    {
     "name": "stdout",
     "output_type": "stream",
     "text": [
      "              Open    High          Low        Close  Volume\n",
      "Date                                                        \n",
      "2023-07-17  1954.0  1956.5  1946.599976  1952.400024      29\n",
      "----------------------------------------------------------------------------------------------------\n",
      "DatetimeIndex(['2023-07-17'], dtype='datetime64[ns]', name='Date', freq=None)\n",
      "----------------------------------------------------------------------------------------------------\n",
      "Date\n",
      "2023-07-17    1956.5\n",
      "Name: High, dtype: float64\n"
     ]
    }
   ],
   "source": [
    "# checkpoints \n",
    "print(df_one_year.iloc[[0]])\n",
    "print('-'*100)\n",
    "print(df_one_year.iloc[[0]].index)\n",
    "print('-'*100)\n",
    "print(df_one_year.iloc[[0]][\"High\"])"
   ]
  },
  {
   "cell_type": "code",
   "execution_count": 9,
   "metadata": {},
   "outputs": [
    {
     "data": {
      "text/plain": [
       "'interval = 30\\nfor start in range(0, len(df_one_year), interval):\\n    end = start + 30\\n    segment = df_one_year[start:end]\\n#print(segment.index)\\n#print(segment.index.day)\\n#print(segment[:end])\\nfor i in segment[:end]:\\n    for key, value in zip(segment.index, segment[:end][i]):\\n        print(f\"{i}\")\\n        #print(key.year, key.month, key.day)\\n        print(value)\\n'"
      ]
     },
     "execution_count": 9,
     "metadata": {},
     "output_type": "execute_result"
    }
   ],
   "source": [
    "\"\"\"interval = 30\n",
    "for start in range(0, len(df_one_year), interval):\n",
    "    end = start + 30\n",
    "    segment = df_one_year[start:end]\n",
    "#print(segment.index)\n",
    "#print(segment.index.day)\n",
    "#print(segment[:end])\n",
    "for i in segment[:end]:\n",
    "    for key, value in zip(segment.index, segment[:end][i]):\n",
    "        print(f\"{i}\")\n",
    "        #print(key.year, key.month, key.day)\n",
    "        print(value)\n",
    "\"\"\""
   ]
  },
  {
   "cell_type": "code",
   "execution_count": 10,
   "metadata": {},
   "outputs": [],
   "source": [
    "# Function to plot and save images \n",
    "def plot_images(data, interval, output_dir):\n",
    "    \"\"\"A function that segements out the date inteval and plot\n",
    "    on a figure.\n",
    "    \n",
    "    input\n",
    "    -----\n",
    "    data : dataframe \n",
    "    intreval : date interval\n",
    "    \n",
    "    output\n",
    "    ------\n",
    "    plotted figure\"\"\"\n",
    "    # loop the whole dataframe with interval (days) steps\n",
    "    for start in range(0, len(data) - interval, interval):\n",
    "        # define the end \n",
    "        end = start + interval\n",
    "        # segment the dataframe with specifed start and end index\n",
    "        segment = data[start:end]\n",
    "        # loop inside each segment \n",
    "        for label in segment[:end]:\n",
    "            #print(label)\n",
    "            # zip the segment index and label value \n",
    "            #for index, value in zip(segment.index, segment[:end][label]):\n",
    "                #print(f\"{label}: {index} {value}\")\n",
    "            plt.figure(figsize=(20, 10), dpi=300)\n",
    "            plt.plot(segment.index, segment[label], linewidth=3)\n",
    "            plt.title(f\"{label} from {segment.index[0]} to {segment.index[-1]}\")\n",
    "            plt.xlabel(\"Date\")\n",
    "            # rotating X-axis labels\n",
    "            plt.xticks(rotation = 90)\n",
    "            plt.ylabel(label)\n",
    "            # add grid line\n",
    "            plt.grid(True)\n",
    "            plt.savefig(f\"{output_dir}/{label}_{segment.index[0]}_{segment.index[-1]}.png\")\n",
    "            plt.close()\n",
    "        "
   ]
  },
  {
   "cell_type": "code",
   "execution_count": 11,
   "metadata": {},
   "outputs": [],
   "source": [
    "#plot_images(data = df_one_year, interval = 30, output_dir = \"images\")"
   ]
  },
  {
   "cell_type": "code",
   "execution_count": 12,
   "metadata": {},
   "outputs": [
    {
     "data": {
      "text/plain": [
       "'\\ndef plot_and_save_images(data, interval, output_dir):\\n    for start in range(0, len(data) - interval, interval):\\n        end = start + interval\\n        segment = data[start:end]\\n        plt.figure(figsize=(10, 5), dpi=300)\\n        plt.plot(segment.index, segment[\\'Price\\'], linewidth=3)\\n        plt.title(f\"Gold Price from {segment.index[0]} to {segment.index[-1]}\")\\n        plt.xlabel(\"Date\")\\n        plt.ylabel(\"Price\")\\n        #plt.savefig(f\"{output_dir}/gold_price_{start}_{end}.png\")\\n        #plt.close()\\n'"
      ]
     },
     "execution_count": 12,
     "metadata": {},
     "output_type": "execute_result"
    }
   ],
   "source": [
    "# function to plot and save images\n",
    "\"\"\"\n",
    "def plot_and_save_images(data, interval, output_dir):\n",
    "    for start in range(0, len(data) - interval, interval):\n",
    "        end = start + interval\n",
    "        segment = data[start:end]\n",
    "        plt.figure(figsize=(10, 5), dpi=300)\n",
    "        plt.plot(segment.index, segment['Price'], linewidth=3)\n",
    "        plt.title(f\"Gold Price from {segment.index[0]} to {segment.index[-1]}\")\n",
    "        plt.xlabel(\"Date\")\n",
    "        plt.ylabel(\"Price\")\n",
    "        #plt.savefig(f\"{output_dir}/gold_price_{start}_{end}.png\")\n",
    "        #plt.close()\n",
    "\"\"\""
   ]
  },
  {
   "cell_type": "code",
   "execution_count": 13,
   "metadata": {},
   "outputs": [],
   "source": [
    "# function to plot and save images\n",
    "def plot_images_test(data, interval, output_dir):\n",
    "    for start in range(0, len(data) - interval, interval):\n",
    "        end = start + interval\n",
    "        segment = data[start:end]\n",
    "        \n",
    "        for label in segment.columns:\n",
    "            plt.figure(figsize=(10, 5), dpi=300)\n",
    "            plt.plot(segment.index, segment[label], linewidth=3)\n",
    "            plt.title(f\"{label} from {segment.index[0]} to {segment.index[-1]}\")\n",
    "            plt.xlabel(\"Date\")\n",
    "            plt.ylabel(label)\n",
    "            \n",
    "            # Extract the day part from the date index\n",
    "            day_labels = segment.index.to_series().apply(lambda x: pd.to_datetime(x).day)\n",
    "            \n",
    "            # Set x-ticks to show only the day part\n",
    "            plt.xticks(ticks=segment.index, labels=day_labels, rotation=90)\n",
    "            # add grid line\n",
    "            plt.grid(True)\n",
    "            plt.savefig(f\"{output_dir}/{label}_{segment.index[0]}_{segment.index[-1]}.png\")\n",
    "            plt.close()"
   ]
  },
  {
   "cell_type": "code",
   "execution_count": 17,
   "metadata": {},
   "outputs": [],
   "source": [
    "def plot_and_save_labels(data, interval, output_dir):\n",
    "    \n",
    "    \"\"\" A method that plot and save the targeted segment. \n",
    "        \n",
    "        parameters\n",
    "        -----\n",
    "        data: dataframe\n",
    "        interval: specified date interval (days)\n",
    "        output_dir: directory to save the images\n",
    "        \n",
    "        return\n",
    "        ------\n",
    "        matplotlib images with labels\n",
    "        \"\"\"\n",
    "    # loop from 0 to the sepcified interval with the interval step size\n",
    "    for start in range(0, len(data) - interval, interval):\n",
    "        \n",
    "        # specified ending \n",
    "        end = start + interval\n",
    "        # segment out the interval from the dataframe\n",
    "        segment = data[start:end]\n",
    "\n",
    "        # for lablel, get from the segment columns\n",
    "        for label in segment.columns:\n",
    "            \n",
    "            # create a candlestick plot\n",
    "            plt.figure(figsize=(10, 5), dpi=300)\n",
    "            # set title\n",
    "            title = f\"{label} from {segment.index[0]} to {segment.index[-1]}\"\n",
    "            # specified start date\n",
    "            start_date = segment.index[0].strftime(\"%Y-%m-%d_%H-%M-%S\")\n",
    "            # specified end date\n",
    "            end_date = segment.index[-1].strftime(\"%Y-%m-%d_%H-%M-%S\")\n",
    "            # file name to output\n",
    "            file_name = f\"{output_dir}/{label}_{start_date}_{end_date}.png\"\n",
    "            # plot the data and save\n",
    "            mpf.plot(segment, type='candle', \n",
    "                     title=title, style='charles', datetime_format='%y %b %d',\n",
    "                     ylabel=label, xlabel=\"Date\", savefig=dict(fname=file_name, dpi=300))            \n",
    "            # close the image\n",
    "            plt.close()"
   ]
  },
  {
   "cell_type": "code",
   "execution_count": 18,
   "metadata": {},
   "outputs": [],
   "source": [
    "plot_and_save_labels(data = df_one_year, interval = 30, output_dir = \"candle_sticks\")"
   ]
  },
  {
   "cell_type": "code",
   "execution_count": 19,
   "metadata": {},
   "outputs": [],
   "source": [
    "def plot_candle_sticks(data, interval, output_dir):\n",
    "\n",
    "    \"\"\" A method that plot and save the targeted segment. \n",
    "        \n",
    "        parameters\n",
    "        -----\n",
    "        data: dataframe\n",
    "        interval: specified date interval (days)\n",
    "        output_dir: directory to save the images\n",
    "        \n",
    "        return\n",
    "        ------\n",
    "        matplotlib images without labels\n",
    "        \"\"\"\n",
    "    \n",
    "    # loop from 0 to the sepcified interval with the interval step size\n",
    "    for start in range(0, len(data) - interval, interval):\n",
    "\n",
    "        # specified ending \n",
    "        end = start + interval\n",
    "        # segment out the interval from the dataframe \n",
    "        segment = data[start:end]\n",
    "        \n",
    "        # for lablel, get from the segment columns\n",
    "        for label in segment.columns:\n",
    "            \n",
    "            # create a candlestick plot\n",
    "            plt.figure(figsize=(10, 5), dpi=300)\n",
    "            # specified start date \n",
    "            start_date = segment.index[0].strftime(\"%Y-%m-%d_%H-%M-%S\")\n",
    "            # specified end date\n",
    "            end_date = segment.index[-1].strftime(\"%Y-%m-%d_%H-%M-%S\")\n",
    "            # file name to output\n",
    "            file_name = f\"{output_dir}/{label}_{start_date}_{end_date}.png\"\n",
    "            # plot the data and save\n",
    "            mpf.plot(segment, type='candle', \n",
    "                     style='charles', datetime_format='%y %b %d',\n",
    "                     savefig=dict(fname=file_name, dpi=300), axisoff= True)            \n",
    "            # close the image\n",
    "            plt.close()"
   ]
  },
  {
   "cell_type": "code",
   "execution_count": 20,
   "metadata": {},
   "outputs": [],
   "source": [
    "plot_candle_sticks(data = df_one_year, interval = 30, output_dir = \"candle_sticks_no_label\")"
   ]
  },
  {
   "cell_type": "code",
   "execution_count": 33,
   "metadata": {},
   "outputs": [],
   "source": [
    "def plot_and_save(data: pd.DataFrame, interval: int = 10, output_dir: str = \"/\", label_on: bool = False) -> None :\n",
    "    \n",
    "    \"\"\" A method that plot and save the targeted segment. \n",
    "        \n",
    "        parameters\n",
    "        -----\n",
    "        data: dataframe\n",
    "        interval: specified date interval (days) <default: 10>\n",
    "        output_dir: directory to save the images <default: at the current directory>\n",
    "        label_on: boolean <True / False> <default: False>\n",
    "        \n",
    "        return\n",
    "        ------\n",
    "        matplotlib images with labels <None>\n",
    "        \"\"\"\n",
    "    # loop from 0 to the sepcified interval with the interval step size\n",
    "    for start in range(0, len(data) - interval, interval):\n",
    "        \n",
    "        # specified ending \n",
    "        end = start + interval\n",
    "        # segment out the interval from the dataframe\n",
    "        segment = data[start:end]\n",
    "\n",
    "        # for lablel, get from the segment columns\n",
    "        for label in segment.columns:\n",
    "            \n",
    "            # create a candlestick plot\n",
    "            plt.figure(figsize=(10, 5), dpi=300)\n",
    "            # set title\n",
    "            title = f\"{label} from {segment.index[0]} to {segment.index[-1]}\"\n",
    "            # specified start date\n",
    "            start_date = segment.index[0].strftime(\"%Y-%m-%d_%H-%M-%S\")\n",
    "            # specified end date\n",
    "            end_date = segment.index[-1].strftime(\"%Y-%m-%d_%H-%M-%S\")\n",
    "            # file name to output\n",
    "            file_name = f\"{output_dir}/{label}_{start_date}_{end_date}.png\"\n",
    "            if label_on != False:\n",
    "                # plot the data and save\n",
    "                mpf.plot(segment, type='candle', \n",
    "                        title=title, style='charles', datetime_format='%y %b %d',\n",
    "                        ylabel=label, xlabel=\"Date\", savefig=dict(fname=file_name, dpi=300)) \n",
    "            else:\n",
    "                # plot the data and save\n",
    "                mpf.plot(segment, type='candle', \n",
    "                        title=title, style='charles', datetime_format='%y %b %d',\n",
    "                        ylabel=label, xlabel=\"Date\", savefig=dict(fname=file_name, dpi=300), axisoff=True)            \n",
    "            # close the image\n",
    "            plt.close()"
   ]
  },
  {
   "cell_type": "code",
   "execution_count": 31,
   "metadata": {},
   "outputs": [],
   "source": [
    "plot_and_save(data = df_one_year, interval = 30, output_dir = \"test_1\")"
   ]
  },
  {
   "cell_type": "code",
   "execution_count": 29,
   "metadata": {},
   "outputs": [],
   "source": [
    "plot_and_save(data = df_one_year, interval = 30, output_dir = \"test_2\", label_on=True)"
   ]
  },
  {
   "cell_type": "code",
   "execution_count": 34,
   "metadata": {},
   "outputs": [],
   "source": [
    "plot_and_save(data = df_one_year)"
   ]
  },
  {
   "cell_type": "code",
   "execution_count": null,
   "metadata": {},
   "outputs": [],
   "source": []
  }
 ],
 "metadata": {
  "kernelspec": {
   "display_name": "Python 3",
   "language": "python",
   "name": "python3"
  },
  "language_info": {
   "codemirror_mode": {
    "name": "ipython",
    "version": 3
   },
   "file_extension": ".py",
   "mimetype": "text/x-python",
   "name": "python",
   "nbconvert_exporter": "python",
   "pygments_lexer": "ipython3",
   "version": "3.10.0"
  }
 },
 "nbformat": 4,
 "nbformat_minor": 2
}
