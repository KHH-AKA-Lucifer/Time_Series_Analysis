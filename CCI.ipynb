{
 "cells": [
  {
   "cell_type": "code",
   "execution_count": 1,
   "metadata": {},
   "outputs": [],
   "source": [
    "# import required libraries \n",
    "import os\n",
    "import warnings \n",
    "import numpy as np\n",
    "import pandas as pd \n",
    "import matplotlib.pyplot as plt\n",
    "warnings.filterwarnings('ignore')"
   ]
  },
  {
   "cell_type": "code",
   "execution_count": 2,
   "metadata": {},
   "outputs": [],
   "source": [
    "def data_wrangle(path, dropped_columns=None):\n",
    "    \"\"\"A method that cleans the original dataset,\n",
    "       restructures the dataset, and fills the missing values.\n",
    "        \n",
    "    Parameters\n",
    "    ----------\n",
    "    path : str\n",
    "        Data path to the CSV file.\n",
    "    dropped_columns : list, optional\n",
    "        Columns to be dropped (default is None).\n",
    "    \n",
    "    Returns\n",
    "    -------\n",
    "    pd.DataFrame\n",
    "        Cleaned and structured dataframe.\n",
    "    \"\"\"\n",
    "    \n",
    "    # Read the dataset from the given path\n",
    "    df = pd.read_csv(path, header=None, names=[\"Date\", \"Time\", \"Open\", \"High\", \"Low\", \"Close\", \"Volume\"])\n",
    "    \n",
    "    # Combine Date and Time columns into a single Date column\n",
    "    df['Date'] = pd.to_datetime(df['Date'] + ' ' + df['Time'])\n",
    "    \n",
    "    # Drop the now redundant Time column\n",
    "    df.drop(columns=[\"Time\"], inplace=True)\n",
    "    \n",
    "    # If there are any unnecessary columns specified, drop them\n",
    "    if dropped_columns:\n",
    "        df = df.drop(columns=dropped_columns)\n",
    "    \n",
    "    # Set the Date column as the index\n",
    "    df.set_index('Date', inplace=True)\n",
    "    \n",
    "    # Return the cleaned dataframe\n",
    "    return df"
   ]
  },
  {
   "cell_type": "code",
   "execution_count": 3,
   "metadata": {},
   "outputs": [],
   "source": [
    "# load the datasets \n",
    "minutely_data = pd.read_csv(\"data/gold_minutely_data.csv\", parse_dates=['Date'], index_col='Date')\n",
    "hourly_data = pd.read_csv(\"data/gold_hourly_data.csv\", parse_dates=['Date'], index_col='Date')\n",
    "daily_data = pd.read_csv(\"data/gold_daily_data.csv\", parse_dates=['Date'], index_col='Date')"
   ]
  },
  {
   "cell_type": "code",
   "execution_count": 4,
   "metadata": {},
   "outputs": [],
   "source": [
    "# Function to calculate CCI\n",
    "def calculate_cci(data, period):\n",
    "\n",
    "    # calculate the typical price\n",
    "    data['Typical Price'] = (data['High'] + data['Low'] + data['Close']) / 3\n",
    "\n",
    "    # calculate the simple moving average (SMA) of the Typical Price\n",
    "    sma = data['Typical Price'].rolling(window=period).mean()\n",
    "\n",
    "    # Calculate the mean deviation manually\n",
    "    mean_deviation = data['Typical Price'].rolling(window=period).apply(\n",
    "        lambda x: np.mean(np.abs(x - x.mean()))\n",
    "    )\n",
    "\n",
    "\n",
    "\n",
    "    # calculate the CCI\n",
    "    cci = (data['Typical Price'] - sma) / (0.015 * mean_deviation)\n",
    "    \n",
    "    return cci"
   ]
  },
  {
   "cell_type": "code",
   "execution_count": 5,
   "metadata": {},
   "outputs": [
    {
     "name": "stdout",
     "output_type": "stream",
     "text": [
      "                        Open     High      Low    Close  Volume  \\\n",
      "Date                                                              \n",
      "2024-08-29 04:00:00  2512.77  2516.68  2512.29  2516.54    4192   \n",
      "2024-08-29 05:00:00  2516.47  2518.12  2515.39  2515.74    4207   \n",
      "2024-08-29 06:00:00  2515.63  2519.90  2513.64  2518.63    7242   \n",
      "2024-08-29 07:00:00  2518.61  2521.05  2516.07  2516.74    9963   \n",
      "2024-08-29 08:00:00  2516.88  2518.32  2515.68  2517.91    4609   \n",
      "\n",
      "                     Typical Price       CCI_3       CCI_9  \n",
      "Date                                                        \n",
      "2024-08-29 04:00:00    2515.170000  100.000000  113.167929  \n",
      "2024-08-29 05:00:00    2516.416667   84.801489  106.599931  \n",
      "2024-08-29 06:00:00    2517.390000   92.115385  102.704343  \n",
      "2024-08-29 07:00:00    2517.953333   83.665339  100.755307  \n",
      "2024-08-29 08:00:00    2517.303333  -60.714286   71.239745  \n"
     ]
    }
   ],
   "source": [
    "# calculate CCI for 3-period and 9-period\n",
    "hourly_data['CCI_3'] = calculate_cci(hourly_data, 3)\n",
    "hourly_data['CCI_9'] = calculate_cci(hourly_data, 9)\n",
    "\n",
    "# Display the data with CCI columns\n",
    "print(hourly_data.tail())"
   ]
  },
  {
   "cell_type": "code",
   "execution_count": 6,
   "metadata": {},
   "outputs": [],
   "source": [
    "# Function to calculate CCI\n",
    "def calculate_cci_fast(data, period):\n",
    "\n",
    "    # calculate the typical price\n",
    "    data['Typical Price'] = (data['High'] + data['Low'] + data['Close']) / 3\n",
    "\n",
    "    # calculate the simple moving average (SMA) of the Typical Price\n",
    "    sma = data['Typical Price'].rolling(window=period).mean()\n",
    "\n",
    "    # Calculate the mean deviation manually\n",
    "    mean_deviation = data['Typical Price'].rolling(window=period).apply(\n",
    "        lambda x: (np.abs(x - x.mean()).mean()), raw=True\n",
    "    )\n",
    "\n",
    "\n",
    "\n",
    "    # calculate the CCI\n",
    "    cci = (data['Typical Price'] - sma) / (0.015 * mean_deviation)\n",
    "    \n",
    "    return cci"
   ]
  },
  {
   "cell_type": "code",
   "execution_count": 7,
   "metadata": {},
   "outputs": [
    {
     "name": "stdout",
     "output_type": "stream",
     "text": [
      "                        Open     High      Low    Close  Volume  \\\n",
      "Date                                                              \n",
      "2024-08-29 04:00:00  2512.77  2516.68  2512.29  2516.54    4192   \n",
      "2024-08-29 05:00:00  2516.47  2518.12  2515.39  2515.74    4207   \n",
      "2024-08-29 06:00:00  2515.63  2519.90  2513.64  2518.63    7242   \n",
      "2024-08-29 07:00:00  2518.61  2521.05  2516.07  2516.74    9963   \n",
      "2024-08-29 08:00:00  2516.88  2518.32  2515.68  2517.91    4609   \n",
      "\n",
      "                     Typical Price       CCI_3       CCI_9  \n",
      "Date                                                        \n",
      "2024-08-29 04:00:00    2515.170000  100.000000  113.167929  \n",
      "2024-08-29 05:00:00    2516.416667   84.801489  106.599931  \n",
      "2024-08-29 06:00:00    2517.390000   92.115385  102.704343  \n",
      "2024-08-29 07:00:00    2517.953333   83.665339  100.755307  \n",
      "2024-08-29 08:00:00    2517.303333  -60.714286   71.239745  \n"
     ]
    }
   ],
   "source": [
    "# calculate CCI for 3-period and 9-period\n",
    "hourly_data['CCI_3'] = calculate_cci_fast(hourly_data, 3)\n",
    "hourly_data['CCI_9'] = calculate_cci_fast(hourly_data, 9)\n",
    "\n",
    "# Display the data with CCI columns\n",
    "print(hourly_data.tail())"
   ]
  },
  {
   "cell_type": "code",
   "execution_count": null,
   "metadata": {},
   "outputs": [],
   "source": []
  }
 ],
 "metadata": {
  "kernelspec": {
   "display_name": "Python 3",
   "language": "python",
   "name": "python3"
  },
  "language_info": {
   "codemirror_mode": {
    "name": "ipython",
    "version": 3
   },
   "file_extension": ".py",
   "mimetype": "text/x-python",
   "name": "python",
   "nbconvert_exporter": "python",
   "pygments_lexer": "ipython3",
   "version": "3.10.0"
  }
 },
 "nbformat": 4,
 "nbformat_minor": 2
}
