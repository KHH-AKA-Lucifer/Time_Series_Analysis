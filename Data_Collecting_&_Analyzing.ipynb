{
 "cells": [
  {
   "cell_type": "code",
   "execution_count": 9,
   "id": "419da68f",
   "metadata": {},
   "outputs": [],
   "source": [
    "# importing required libraries\n",
    "import pandas as pd\n",
    "from datetime import datetime\n",
    "import matplotlib.pyplot as plt\n",
    "from yahoofinancials import YahooFinancials"
   ]
  },
  {
   "cell_type": "code",
   "execution_count": 10,
   "id": "038052ae",
   "metadata": {},
   "outputs": [
    {
     "data": {
      "text/html": [
       "<div>\n",
       "<style scoped>\n",
       "    .dataframe tbody tr th:only-of-type {\n",
       "        vertical-align: middle;\n",
       "    }\n",
       "\n",
       "    .dataframe tbody tr th {\n",
       "        vertical-align: top;\n",
       "    }\n",
       "\n",
       "    .dataframe thead th {\n",
       "        text-align: right;\n",
       "    }\n",
       "</style>\n",
       "<table border=\"1\" class=\"dataframe\">\n",
       "  <thead>\n",
       "    <tr style=\"text-align: right;\">\n",
       "      <th></th>\n",
       "      <th>Ticker</th>\n",
       "      <th>Description</th>\n",
       "    </tr>\n",
       "  </thead>\n",
       "  <tbody>\n",
       "    <tr>\n",
       "      <th>0</th>\n",
       "      <td>GC=F</td>\n",
       "      <td>Gold</td>\n",
       "    </tr>\n",
       "    <tr>\n",
       "      <th>1</th>\n",
       "      <td>SI=F</td>\n",
       "      <td>Silver</td>\n",
       "    </tr>\n",
       "    <tr>\n",
       "      <th>2</th>\n",
       "      <td>CL=F</td>\n",
       "      <td>Crude Oil</td>\n",
       "    </tr>\n",
       "    <tr>\n",
       "      <th>3</th>\n",
       "      <td>^GSPC</td>\n",
       "      <td>S&amp;P500</td>\n",
       "    </tr>\n",
       "    <tr>\n",
       "      <th>4</th>\n",
       "      <td>^RUT</td>\n",
       "      <td>Russel 2000 Index</td>\n",
       "    </tr>\n",
       "    <tr>\n",
       "      <th>5</th>\n",
       "      <td>ZN=F</td>\n",
       "      <td>10 Yr US T-Note futures</td>\n",
       "    </tr>\n",
       "    <tr>\n",
       "      <th>6</th>\n",
       "      <td>ZT=F</td>\n",
       "      <td>2 Yr US T-Note Futures</td>\n",
       "    </tr>\n",
       "    <tr>\n",
       "      <th>7</th>\n",
       "      <td>PL=F</td>\n",
       "      <td>Platinum</td>\n",
       "    </tr>\n",
       "    <tr>\n",
       "      <th>8</th>\n",
       "      <td>HG=F</td>\n",
       "      <td>Copper</td>\n",
       "    </tr>\n",
       "    <tr>\n",
       "      <th>9</th>\n",
       "      <td>DX=F</td>\n",
       "      <td>Dollar Index</td>\n",
       "    </tr>\n",
       "    <tr>\n",
       "      <th>10</th>\n",
       "      <td>^VIX</td>\n",
       "      <td>Volatility Index</td>\n",
       "    </tr>\n",
       "    <tr>\n",
       "      <th>11</th>\n",
       "      <td>S=F</td>\n",
       "      <td>Soybean</td>\n",
       "    </tr>\n",
       "    <tr>\n",
       "      <th>12</th>\n",
       "      <td>EEM</td>\n",
       "      <td>MSCI EM ETF</td>\n",
       "    </tr>\n",
       "    <tr>\n",
       "      <th>13</th>\n",
       "      <td>EURUSD=X</td>\n",
       "      <td>Euro USD</td>\n",
       "    </tr>\n",
       "    <tr>\n",
       "      <th>14</th>\n",
       "      <td>^N100</td>\n",
       "      <td>Euronext100</td>\n",
       "    </tr>\n",
       "    <tr>\n",
       "      <th>15</th>\n",
       "      <td>^IXIC</td>\n",
       "      <td>Nasdaq</td>\n",
       "    </tr>\n",
       "  </tbody>\n",
       "</table>\n",
       "</div>"
      ],
      "text/plain": [
       "      Ticker              Description\n",
       "0       GC=F                     Gold\n",
       "1       SI=F                   Silver\n",
       "2       CL=F                Crude Oil\n",
       "3      ^GSPC                   S&P500\n",
       "4       ^RUT        Russel 2000 Index\n",
       "5       ZN=F  10 Yr US T-Note futures\n",
       "6       ZT=F   2 Yr US T-Note Futures\n",
       "7       PL=F                 Platinum\n",
       "8       HG=F                   Copper\n",
       "9       DX=F             Dollar Index\n",
       "10      ^VIX         Volatility Index\n",
       "11       S=F                  Soybean\n",
       "12       EEM              MSCI EM ETF\n",
       "13  EURUSD=X                 Euro USD\n",
       "14     ^N100              Euronext100\n",
       "15     ^IXIC                   Nasdaq"
      ]
     },
     "execution_count": 10,
     "metadata": {},
     "output_type": "execute_result"
    }
   ],
   "source": [
    "# tickers from API \n",
    "# this does not belong to the total data frame\n",
    "ticker_details = pd.read_excel(\"Ticker List.xlsx\")\n",
    "ticker_details.head(20)"
   ]
  },
  {
   "cell_type": "code",
   "execution_count": 11,
   "id": "550bacf0",
   "metadata": {},
   "outputs": [],
   "source": [
    "# extract ticker and description\n",
    "ticker = ticker_details['Ticker'].to_list()\n",
    "names = ticker_details['Description'].to_list()"
   ]
  },
  {
   "cell_type": "code",
   "execution_count": 12,
   "id": "842e69d0",
   "metadata": {},
   "outputs": [],
   "source": [
    "# intialize start and end date\n",
    "start_date = \"2010-01-01\"\n",
    "end_date= \"2024-03-01\"\n",
    "# specify date range \n",
    "date_range = pd.bdate_range(start=start_date,end=end_date)\n",
    "# \n",
    "values = pd.DataFrame({'Date': date_range})\n",
    "values['Date']= pd.to_datetime(values['Date'])"
   ]
  },
  {
   "cell_type": "code",
   "execution_count": 13,
   "id": "fdd46feb",
   "metadata": {},
   "outputs": [
    {
     "data": {
      "text/plain": [
       "3696"
      ]
     },
     "execution_count": 13,
     "metadata": {},
     "output_type": "execute_result"
    }
   ],
   "source": [
    "# check the range\n",
    "len(values)"
   ]
  },
  {
   "cell_type": "code",
   "execution_count": 14,
   "id": "7823400a",
   "metadata": {},
   "outputs": [],
   "source": [
    "# extract the gold data from the API object\n",
    "gold_raw_data = YahooFinancials(\"GC=F\")"
   ]
  },
  {
   "cell_type": "code",
   "execution_count": 15,
   "id": "13437bc7",
   "metadata": {},
   "outputs": [
    {
     "data": {
      "text/plain": [
       "yahoofinancials.yf.YahooFinancials"
      ]
     },
     "execution_count": 15,
     "metadata": {},
     "output_type": "execute_result"
    }
   ],
   "source": [
    "# check the data type\n",
    "type(gold_raw_data)"
   ]
  },
  {
   "cell_type": "code",
   "execution_count": 19,
   "id": "6b534b85",
   "metadata": {},
   "outputs": [
    {
     "ename": "TypeError",
     "evalue": "YahooFinancials.get_historical_price_data() got an unexpected keyword argument 'progress'",
     "output_type": "error",
     "traceback": [
      "\u001b[1;31m---------------------------------------------------------------------------\u001b[0m",
      "\u001b[1;31mTypeError\u001b[0m                                 Traceback (most recent call last)",
      "Cell \u001b[1;32mIn[19], line 2\u001b[0m\n\u001b[0;32m      1\u001b[0m \u001b[38;5;66;03m# get daily historical price data \u001b[39;00m\n\u001b[1;32m----> 2\u001b[0m gold_raw_data \u001b[38;5;241m=\u001b[39m \u001b[43mgold_raw_data\u001b[49m\u001b[38;5;241;43m.\u001b[39;49m\u001b[43mget_historical_price_data\u001b[49m\u001b[43m(\u001b[49m\u001b[43mstart_date\u001b[49m\u001b[43m,\u001b[49m\u001b[43m \u001b[49m\u001b[43mend_date\u001b[49m\u001b[43m,\u001b[49m\u001b[43m \u001b[49m\u001b[38;5;124;43m\"\u001b[39;49m\u001b[38;5;124;43mdaily\u001b[39;49m\u001b[38;5;124;43m\"\u001b[39;49m\u001b[43m,\u001b[49m\u001b[43m \u001b[49m\u001b[43mprogress\u001b[49m\u001b[43m \u001b[49m\u001b[38;5;241;43m=\u001b[39;49m\u001b[43m \u001b[49m\u001b[38;5;28;43;01mFalse\u001b[39;49;00m\u001b[43m)\u001b[49m\n",
      "\u001b[1;31mTypeError\u001b[0m: YahooFinancials.get_historical_price_data() got an unexpected keyword argument 'progress'"
     ]
    }
   ],
   "source": [
    "# get daily historical price data \n",
    "gold_raw_data = gold_raw_data.get_historical_price_data(start_date, end_date, \"daily\")"
   ]
  },
  {
   "cell_type": "code",
   "execution_count": null,
   "id": "98bd6444",
   "metadata": {},
   "outputs": [],
   "source": [
    "# print out the data \n",
    "gold_raw_data"
   ]
  },
  {
   "cell_type": "code",
   "execution_count": null,
   "id": "a16b2919",
   "metadata": {},
   "outputs": [],
   "source": [
    "# extract the required data from the dictionary\n",
    "df = pd.DataFrame(gold_raw_data['GC=F']['prices'])[['formatted_date','open','close', 'high', 'low', 'volume', 'adjclose']]"
   ]
  },
  {
   "cell_type": "code",
   "execution_count": null,
   "id": "7d73e54b",
   "metadata": {},
   "outputs": [],
   "source": [
    "# print out the first ten rows\n",
    "df.head()"
   ]
  },
  {
   "cell_type": "code",
   "execution_count": null,
   "id": "fb0e1216",
   "metadata": {},
   "outputs": [],
   "source": [
    "# rename the date column \n",
    "df = df.rename(columns={\"formatted_date\": \"date\"})"
   ]
  },
  {
   "cell_type": "code",
   "execution_count": null,
   "id": "0f8cbdf9",
   "metadata": {},
   "outputs": [],
   "source": [
    "# assure the change \n",
    "df.head()"
   ]
  },
  {
   "cell_type": "code",
   "execution_count": null,
   "id": "82a8afa3",
   "metadata": {},
   "outputs": [],
   "source": [
    "# check the data types of the collected data\n",
    "df.dtypes"
   ]
  },
  {
   "cell_type": "code",
   "execution_count": null,
   "id": "0a1c17ff",
   "metadata": {},
   "outputs": [],
   "source": []
  }
 ],
 "metadata": {
  "kernelspec": {
   "display_name": "Python 3 (ipykernel)",
   "language": "python",
   "name": "python3"
  },
  "language_info": {
   "codemirror_mode": {
    "name": "ipython",
    "version": 3
   },
   "file_extension": ".py",
   "mimetype": "text/x-python",
   "name": "python",
   "nbconvert_exporter": "python",
   "pygments_lexer": "ipython3",
   "version": "3.10.0"
  }
 },
 "nbformat": 4,
 "nbformat_minor": 5
}
