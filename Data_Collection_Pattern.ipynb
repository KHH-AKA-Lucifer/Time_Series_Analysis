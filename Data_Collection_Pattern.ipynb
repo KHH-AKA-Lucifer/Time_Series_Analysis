{
 "cells": [
  {
   "cell_type": "markdown",
   "metadata": {},
   "source": [
    "## Collecting Historical Gold Price Patterns "
   ]
  },
  {
   "cell_type": "code",
   "execution_count": 1,
   "metadata": {},
   "outputs": [],
   "source": [
    "# import required libraries\n",
    "import pandas as pd\n",
    "import numpy as np\n",
    "import yfinance as yf \n",
    "import seaborn as sns\n",
    "import mplfinance as mpf\n",
    "import matplotlib.pyplot as plt\n",
    "from statsmodels.tsa.arima.model import ARIMA\n",
    "from pandas.plotting import autocorrelation_plot\n",
    "from statsmodels.tsa.stattools import adfuller, acf, pacf\n",
    "from statsmodels.graphics.tsaplots import plot_acf, plot_pacf\n",
    "from sklearn.metrics import mean_absolute_error, mean_squared_error\n",
    "from statsmodels.tsa.seasonal import seasonal_decompose"
   ]
  },
  {
   "cell_type": "code",
   "execution_count": 2,
   "metadata": {},
   "outputs": [
    {
     "name": "stderr",
     "output_type": "stream",
     "text": [
      "[*********************100%%**********************]  1 of 1 completed\n",
      "[*********************100%%**********************]  1 of 1 completed\n",
      "[*********************100%%**********************]  1 of 1 completed\n",
      "[*********************100%%**********************]  1 of 1 completed\n"
     ]
    }
   ],
   "source": [
    "# download the gold data from yfinance module \n",
    "\n",
    "# one day - 1 min interval\n",
    "gold_one_day = yf.download('GC=F', interval=\"1m\")\n",
    "# one month - 5 min interval\n",
    "gold_one_month = yf.download('GC=F', interval=\"5m\", period=\"1mo\")\n",
    "# one year - 1 day interval\n",
    "gold_one_year = yf.download('GC=F', period=\"1y\")\n",
    "# ten years - 1 day interval \n",
    "gold_ten_year = yf.download('GC=F', period=\"10y\")"
   ]
  },
  {
   "cell_type": "code",
   "execution_count": 3,
   "metadata": {},
   "outputs": [],
   "source": [
    "# save the data as csv file\n",
    "gold_one_day.to_csv('data/gold_one_day.csv')\n",
    "gold_one_month.to_csv('data/gold_one_month.csv')\n",
    "gold_one_year.to_csv('data/gold_one_year.csv')\n",
    "gold_ten_year.to_csv('data/gold_ten_year.csv')"
   ]
  },
  {
   "cell_type": "code",
   "execution_count": 4,
   "metadata": {},
   "outputs": [],
   "source": [
    "def data_wrangle(path, droped_columns):\n",
    "    \"\"\" A method that will clean the original dataset, \n",
    "        restructure the dataset and fill the missing values.\n",
    "        \n",
    "        input\n",
    "        -----\n",
    "        path: data path \n",
    "        dropped_columns: columns to be dropped\"\"\"\n",
    "    \n",
    "    # read the dataset through the path\n",
    "    df=pd.read_csv(path, index_col=0, parse_dates=True)\n",
    "    # drop the unnecessary columns that are already specified \n",
    "    df = df.drop(columns=droped_columns)\n",
    "    \n",
    "    # return the dataframe\n",
    "    return df"
   ]
  },
  {
   "cell_type": "code",
   "execution_count": 5,
   "metadata": {},
   "outputs": [
    {
     "name": "stdout",
     "output_type": "stream",
     "text": [
      "                   Open         High          Low        Close  Volume\n",
      "Date                                                                  \n",
      "2023-07-20  1973.699951  1973.699951  1965.599976  1968.300049     638\n",
      "2023-07-21  1961.800049  1964.300049  1961.800049  1964.300049      50\n",
      "2023-07-24  1965.300049  1965.500000  1960.300049  1960.300049       2\n",
      "2023-07-25  1953.000000  1962.500000  1953.000000  1962.099976      19\n",
      "2023-07-26  1966.199951  1972.000000  1966.199951  1968.900024      51\n",
      "----------------------------------------------------------------------------------------------------\n",
      "<class 'pandas.core.frame.DataFrame'>\n",
      "DatetimeIndex: 253 entries, 2023-07-20 to 2024-07-19\n",
      "Data columns (total 5 columns):\n",
      " #   Column  Non-Null Count  Dtype  \n",
      "---  ------  --------------  -----  \n",
      " 0   Open    253 non-null    float64\n",
      " 1   High    253 non-null    float64\n",
      " 2   Low     253 non-null    float64\n",
      " 3   Close   253 non-null    float64\n",
      " 4   Volume  253 non-null    int64  \n",
      "dtypes: float64(4), int64(1)\n",
      "memory usage: 11.9 KB\n",
      "----------------------------------------------------------------------------------------------------\n"
     ]
    },
    {
     "data": {
      "text/html": [
       "<div>\n",
       "<style scoped>\n",
       "    .dataframe tbody tr th:only-of-type {\n",
       "        vertical-align: middle;\n",
       "    }\n",
       "\n",
       "    .dataframe tbody tr th {\n",
       "        vertical-align: top;\n",
       "    }\n",
       "\n",
       "    .dataframe thead th {\n",
       "        text-align: right;\n",
       "    }\n",
       "</style>\n",
       "<table border=\"1\" class=\"dataframe\">\n",
       "  <thead>\n",
       "    <tr style=\"text-align: right;\">\n",
       "      <th></th>\n",
       "      <th>Open</th>\n",
       "      <th>High</th>\n",
       "      <th>Low</th>\n",
       "      <th>Close</th>\n",
       "      <th>Volume</th>\n",
       "    </tr>\n",
       "  </thead>\n",
       "  <tbody>\n",
       "    <tr>\n",
       "      <th>count</th>\n",
       "      <td>253.000000</td>\n",
       "      <td>253.000000</td>\n",
       "      <td>253.000000</td>\n",
       "      <td>253.000000</td>\n",
       "      <td>253.000000</td>\n",
       "    </tr>\n",
       "    <tr>\n",
       "      <th>mean</th>\n",
       "      <td>2100.727665</td>\n",
       "      <td>2110.180236</td>\n",
       "      <td>2092.189724</td>\n",
       "      <td>2100.989322</td>\n",
       "      <td>4266.948617</td>\n",
       "    </tr>\n",
       "    <tr>\n",
       "      <th>std</th>\n",
       "      <td>177.765350</td>\n",
       "      <td>181.104805</td>\n",
       "      <td>175.288813</td>\n",
       "      <td>178.822354</td>\n",
       "      <td>24019.964577</td>\n",
       "    </tr>\n",
       "    <tr>\n",
       "      <th>min</th>\n",
       "      <td>1819.000000</td>\n",
       "      <td>1826.300049</td>\n",
       "      <td>1809.400024</td>\n",
       "      <td>1816.599976</td>\n",
       "      <td>1.000000</td>\n",
       "    </tr>\n",
       "    <tr>\n",
       "      <th>25%</th>\n",
       "      <td>1961.800049</td>\n",
       "      <td>1965.400024</td>\n",
       "      <td>1950.000000</td>\n",
       "      <td>1961.800049</td>\n",
       "      <td>46.000000</td>\n",
       "    </tr>\n",
       "    <tr>\n",
       "      <th>50%</th>\n",
       "      <td>2032.500000</td>\n",
       "      <td>2037.099976</td>\n",
       "      <td>2024.800049</td>\n",
       "      <td>2030.199951</td>\n",
       "      <td>178.000000</td>\n",
       "    </tr>\n",
       "    <tr>\n",
       "      <th>75%</th>\n",
       "      <td>2310.699951</td>\n",
       "      <td>2324.699951</td>\n",
       "      <td>2296.199951</td>\n",
       "      <td>2312.399902</td>\n",
       "      <td>538.000000</td>\n",
       "    </tr>\n",
       "    <tr>\n",
       "      <th>max</th>\n",
       "      <td>2472.899902</td>\n",
       "      <td>2473.100098</td>\n",
       "      <td>2454.800049</td>\n",
       "      <td>2462.399902</td>\n",
       "      <td>202373.000000</td>\n",
       "    </tr>\n",
       "  </tbody>\n",
       "</table>\n",
       "</div>"
      ],
      "text/plain": [
       "              Open         High          Low        Close         Volume\n",
       "count   253.000000   253.000000   253.000000   253.000000     253.000000\n",
       "mean   2100.727665  2110.180236  2092.189724  2100.989322    4266.948617\n",
       "std     177.765350   181.104805   175.288813   178.822354   24019.964577\n",
       "min    1819.000000  1826.300049  1809.400024  1816.599976       1.000000\n",
       "25%    1961.800049  1965.400024  1950.000000  1961.800049      46.000000\n",
       "50%    2032.500000  2037.099976  2024.800049  2030.199951     178.000000\n",
       "75%    2310.699951  2324.699951  2296.199951  2312.399902     538.000000\n",
       "max    2472.899902  2473.100098  2454.800049  2462.399902  202373.000000"
      ]
     },
     "execution_count": 5,
     "metadata": {},
     "output_type": "execute_result"
    }
   ],
   "source": [
    "df_one_year = data_wrangle(path = \"data/gold_one_year.csv\", droped_columns=\"Adj Close\")\n",
    "print(df_one_year.head(5))\n",
    "print('-'*100)\n",
    "# check the information of the dataframe \n",
    "df_one_year.info()\n",
    "print('-'*100)\n",
    "# display the statics of the data frame \n",
    "df_one_year.describe()\n"
   ]
  },
  {
   "cell_type": "code",
   "execution_count": 6,
   "metadata": {},
   "outputs": [
    {
     "name": "stdout",
     "output_type": "stream",
     "text": [
      "                   Open         High          Low        Close  Volume\n",
      "Date                                                                  \n",
      "2014-07-21  1311.000000  1315.500000  1311.000000  1313.699951      18\n",
      "2014-07-22  1306.099976  1306.099976  1306.099976  1306.099976       2\n",
      "2014-07-23  1304.500000  1304.500000  1304.500000  1304.500000       0\n",
      "2014-07-24  1297.500000  1297.500000  1290.599976  1290.599976       1\n",
      "2014-07-25  1294.800049  1303.099976  1294.800049  1303.099976       8\n",
      "----------------------------------------------------------------------------------------------------\n",
      "<class 'pandas.core.frame.DataFrame'>\n",
      "DatetimeIndex: 2515 entries, 2014-07-21 to 2024-07-19\n",
      "Data columns (total 5 columns):\n",
      " #   Column  Non-Null Count  Dtype  \n",
      "---  ------  --------------  -----  \n",
      " 0   Open    2515 non-null   float64\n",
      " 1   High    2515 non-null   float64\n",
      " 2   Low     2515 non-null   float64\n",
      " 3   Close   2515 non-null   float64\n",
      " 4   Volume  2515 non-null   int64  \n",
      "dtypes: float64(4), int64(1)\n",
      "memory usage: 117.9 KB\n",
      "----------------------------------------------------------------------------------------------------\n"
     ]
    },
    {
     "data": {
      "text/html": [
       "<div>\n",
       "<style scoped>\n",
       "    .dataframe tbody tr th:only-of-type {\n",
       "        vertical-align: middle;\n",
       "    }\n",
       "\n",
       "    .dataframe tbody tr th {\n",
       "        vertical-align: top;\n",
       "    }\n",
       "\n",
       "    .dataframe thead th {\n",
       "        text-align: right;\n",
       "    }\n",
       "</style>\n",
       "<table border=\"1\" class=\"dataframe\">\n",
       "  <thead>\n",
       "    <tr style=\"text-align: right;\">\n",
       "      <th></th>\n",
       "      <th>Open</th>\n",
       "      <th>High</th>\n",
       "      <th>Low</th>\n",
       "      <th>Close</th>\n",
       "      <th>Volume</th>\n",
       "    </tr>\n",
       "  </thead>\n",
       "  <tbody>\n",
       "    <tr>\n",
       "      <th>count</th>\n",
       "      <td>2515.000000</td>\n",
       "      <td>2515.000000</td>\n",
       "      <td>2515.000000</td>\n",
       "      <td>2515.000000</td>\n",
       "      <td>2515.000000</td>\n",
       "    </tr>\n",
       "    <tr>\n",
       "      <th>mean</th>\n",
       "      <td>1541.811093</td>\n",
       "      <td>1549.116064</td>\n",
       "      <td>1534.676462</td>\n",
       "      <td>1541.897812</td>\n",
       "      <td>5274.320875</td>\n",
       "    </tr>\n",
       "    <tr>\n",
       "      <th>std</th>\n",
       "      <td>335.108422</td>\n",
       "      <td>337.239507</td>\n",
       "      <td>333.302675</td>\n",
       "      <td>335.319568</td>\n",
       "      <td>29294.692087</td>\n",
       "    </tr>\n",
       "    <tr>\n",
       "      <th>min</th>\n",
       "      <td>1053.699951</td>\n",
       "      <td>1062.000000</td>\n",
       "      <td>1046.199951</td>\n",
       "      <td>1050.800049</td>\n",
       "      <td>0.000000</td>\n",
       "    </tr>\n",
       "    <tr>\n",
       "      <th>25%</th>\n",
       "      <td>1249.049988</td>\n",
       "      <td>1253.750000</td>\n",
       "      <td>1243.649963</td>\n",
       "      <td>1248.950012</td>\n",
       "      <td>46.000000</td>\n",
       "    </tr>\n",
       "    <tr>\n",
       "      <th>50%</th>\n",
       "      <td>1422.800049</td>\n",
       "      <td>1425.300049</td>\n",
       "      <td>1416.300049</td>\n",
       "      <td>1420.900024</td>\n",
       "      <td>173.000000</td>\n",
       "    </tr>\n",
       "    <tr>\n",
       "      <th>75%</th>\n",
       "      <td>1830.049988</td>\n",
       "      <td>1841.049988</td>\n",
       "      <td>1821.849976</td>\n",
       "      <td>1831.850037</td>\n",
       "      <td>536.500000</td>\n",
       "    </tr>\n",
       "    <tr>\n",
       "      <th>max</th>\n",
       "      <td>2472.899902</td>\n",
       "      <td>2473.100098</td>\n",
       "      <td>2454.800049</td>\n",
       "      <td>2462.399902</td>\n",
       "      <td>386334.000000</td>\n",
       "    </tr>\n",
       "  </tbody>\n",
       "</table>\n",
       "</div>"
      ],
      "text/plain": [
       "              Open         High          Low        Close         Volume\n",
       "count  2515.000000  2515.000000  2515.000000  2515.000000    2515.000000\n",
       "mean   1541.811093  1549.116064  1534.676462  1541.897812    5274.320875\n",
       "std     335.108422   337.239507   333.302675   335.319568   29294.692087\n",
       "min    1053.699951  1062.000000  1046.199951  1050.800049       0.000000\n",
       "25%    1249.049988  1253.750000  1243.649963  1248.950012      46.000000\n",
       "50%    1422.800049  1425.300049  1416.300049  1420.900024     173.000000\n",
       "75%    1830.049988  1841.049988  1821.849976  1831.850037     536.500000\n",
       "max    2472.899902  2473.100098  2454.800049  2462.399902  386334.000000"
      ]
     },
     "execution_count": 6,
     "metadata": {},
     "output_type": "execute_result"
    }
   ],
   "source": [
    "df_ten_year = data_wrangle(path = \"data/gold_ten_year.csv\", droped_columns=\"Adj Close\")\n",
    "print(df_ten_year.head(5))\n",
    "print('-'*100)\n",
    "# check the information of the dataframe \n",
    "df_ten_year.info()\n",
    "print('-'*100)\n",
    "# display the statics of the data frame \n",
    "df_ten_year.describe()"
   ]
  },
  {
   "cell_type": "code",
   "execution_count": 7,
   "metadata": {},
   "outputs": [
    {
     "name": "stdout",
     "output_type": "stream",
     "text": [
      "                   Open         High          Low        Close  Volume\n",
      "Date                                                                  \n",
      "2023-07-20  1973.699951  1973.699951  1965.599976  1968.300049     638\n",
      "----------------------------------------------------------------------------------------------------\n",
      "DatetimeIndex(['2023-07-20'], dtype='datetime64[ns]', name='Date', freq=None)\n",
      "----------------------------------------------------------------------------------------------------\n",
      "Date\n",
      "2023-07-20    1973.699951\n",
      "Name: High, dtype: float64\n"
     ]
    }
   ],
   "source": [
    "# checkpoints \n",
    "print(df_one_year.iloc[[0]])\n",
    "print('-'*100)\n",
    "print(df_one_year.iloc[[0]].index)\n",
    "print('-'*100)\n",
    "print(df_one_year.iloc[[0]][\"High\"])"
   ]
  },
  {
   "cell_type": "code",
   "execution_count": 8,
   "metadata": {},
   "outputs": [
    {
     "name": "stdout",
     "output_type": "stream",
     "text": [
      "              Open    High     Low        Close  Volume\n",
      "Date                                                   \n",
      "2014-07-21  1311.0  1315.5  1311.0  1313.699951      18\n",
      "----------------------------------------------------------------------------------------------------\n",
      "DatetimeIndex(['2014-07-21'], dtype='datetime64[ns]', name='Date', freq=None)\n",
      "----------------------------------------------------------------------------------------------------\n",
      "Date\n",
      "2023-07-20    1973.699951\n",
      "Name: High, dtype: float64\n"
     ]
    }
   ],
   "source": [
    "# checkpoints \n",
    "print(df_ten_year.iloc[[0]])\n",
    "print('-'*100)\n",
    "print(df_ten_year.iloc[[0]].index)\n",
    "print('-'*100)\n",
    "print(df_one_year.iloc[[0]][\"High\"])"
   ]
  },
  {
   "cell_type": "code",
   "execution_count": 9,
   "metadata": {},
   "outputs": [
    {
     "name": "stdout",
     "output_type": "stream",
     "text": [
      "253\n"
     ]
    }
   ],
   "source": [
    "print(len(df_one_year))"
   ]
  },
  {
   "cell_type": "code",
   "execution_count": 10,
   "metadata": {},
   "outputs": [
    {
     "name": "stdout",
     "output_type": "stream",
     "text": [
      "2515\n"
     ]
    }
   ],
   "source": [
    "print(len(df_ten_year))"
   ]
  },
  {
   "cell_type": "code",
   "execution_count": 11,
   "metadata": {},
   "outputs": [
    {
     "data": {
      "text/plain": [
       "'\"\\ninterval = 7\\nfor start in range(0, len(df_ten_year), interval):\\n    end = start + 7\\n    segment = df_ten_year[start:end]\\n#print(segment)\\n#print(segment.index.day)\\n#print(segment[:end])\\nfor i in segment[:end]:\\n    print(len(segment))\\n    for key, value in zip(segment.index, segment[:end][i]):\\n        print(key)\\n        #print(key.year, key.month, key.day)\\n        print(value)\\n'"
      ]
     },
     "execution_count": 11,
     "metadata": {},
     "output_type": "execute_result"
    }
   ],
   "source": [
    "\"\"\"\"\n",
    "interval = 7\n",
    "for start in range(0, len(df_ten_year), interval):\n",
    "    end = start + 7\n",
    "    segment = df_ten_year[start:end]\n",
    "#print(segment)\n",
    "#print(segment.index.day)\n",
    "#print(segment[:end])\n",
    "for i in segment[:end]:\n",
    "    print(len(segment))\n",
    "    for key, value in zip(segment.index, segment[:end][i]):\n",
    "        print(key)\n",
    "        #print(key.year, key.month, key.day)\n",
    "        print(value)\n",
    "\"\"\""
   ]
  },
  {
   "cell_type": "code",
   "execution_count": 12,
   "metadata": {},
   "outputs": [
    {
     "data": {
      "text/plain": [
       "'\\ndef plot_images(data, interval, output_dir):\\n    \"\"\"\\n    A function that segements out the date inteval and plot\\n    on a figure.\\n    \\n    input\\n    -----\\n    data : dataframe \\n    intreval : date interval\\n    \\n    output\\n    ------\\n    plotted figure\\n    \"\"\"\\n    # loop the whole dataframe with interval (days) steps\\n    for start in range(0, len(data) - interval, interval):\\n        # define the end \\n        end = start + interval\\n        # segment the dataframe with specifed start and end index\\n        segment = data[start:end]\\n        # loop inside each segment \\n        for label in segment[:end]:\\n            #print(label)\\n            # zip the segment index and label value \\n            #for index, value in zip(segment.index, segment[:end][label]):\\n                #print(f\"{label}: {index} {value}\")\\n            plt.figure(figsize=(20, 10), dpi=300)\\n            plt.plot(segment.index, segment[label], linewidth=3)\\n            plt.title(f\"{label} from {segment.index[0]} to {segment.index[-1]}\")\\n            plt.xlabel(\"Date\")\\n            # rotating X-axis labels\\n            plt.xticks(rotation = 90)\\n            plt.ylabel(label)\\n            # add grid line\\n            plt.grid(True)\\n            plt.savefig(f\"{output_dir}/{label}_{segment.index[0]}_{segment.index[-1]}.png\")\\n            plt.close()\\n'"
      ]
     },
     "execution_count": 12,
     "metadata": {},
     "output_type": "execute_result"
    }
   ],
   "source": [
    "# function to plot and save images <line plot> \n",
    "# don't use it anymore\n",
    "'''\n",
    "def plot_images(data, interval, output_dir):\n",
    "    \"\"\"\n",
    "    A function that segements out the date inteval and plot\n",
    "    on a figure.\n",
    "    \n",
    "    input\n",
    "    -----\n",
    "    data : dataframe \n",
    "    intreval : date interval\n",
    "    \n",
    "    output\n",
    "    ------\n",
    "    plotted figure\n",
    "    \"\"\"\n",
    "    # loop the whole dataframe with interval (days) steps\n",
    "    for start in range(0, len(data) - interval, interval):\n",
    "        # define the end \n",
    "        end = start + interval\n",
    "        # segment the dataframe with specifed start and end index\n",
    "        segment = data[start:end]\n",
    "        # loop inside each segment \n",
    "        for label in segment[:end]:\n",
    "            #print(label)\n",
    "            # zip the segment index and label value \n",
    "            #for index, value in zip(segment.index, segment[:end][label]):\n",
    "                #print(f\"{label}: {index} {value}\")\n",
    "            plt.figure(figsize=(20, 10), dpi=300)\n",
    "            plt.plot(segment.index, segment[label], linewidth=3)\n",
    "            plt.title(f\"{label} from {segment.index[0]} to {segment.index[-1]}\")\n",
    "            plt.xlabel(\"Date\")\n",
    "            # rotating X-axis labels\n",
    "            plt.xticks(rotation = 90)\n",
    "            plt.ylabel(label)\n",
    "            # add grid line\n",
    "            plt.grid(True)\n",
    "            plt.savefig(f\"{output_dir}/{label}_{segment.index[0]}_{segment.index[-1]}.png\")\n",
    "            plt.close()\n",
    "'''"
   ]
  },
  {
   "cell_type": "code",
   "execution_count": 13,
   "metadata": {},
   "outputs": [],
   "source": [
    "#plot_images(data = df_one_year, interval = 30, output_dir = \"images\")"
   ]
  },
  {
   "cell_type": "code",
   "execution_count": 14,
   "metadata": {},
   "outputs": [
    {
     "data": {
      "text/plain": [
       "'\\ndef plot_and_save_images(data, interval, output_dir):\\n    for start in range(0, len(data) - interval, interval):\\n        end = start + interval\\n        segment = data[start:end]\\n        plt.figure(figsize=(10, 5), dpi=300)\\n        plt.plot(segment.index, segment[\\'Price\\'], linewidth=3)\\n        plt.title(f\"Gold Price from {segment.index[0]} to {segment.index[-1]}\")\\n        plt.xlabel(\"Date\")\\n        plt.ylabel(\"Price\")\\n        #plt.savefig(f\"{output_dir}/gold_price_{start}_{end}.png\")\\n        #plt.close()\\n'"
      ]
     },
     "execution_count": 14,
     "metadata": {},
     "output_type": "execute_result"
    }
   ],
   "source": [
    "# Function to plot and save images - v 0.0.0\n",
    "\"\"\"\n",
    "def plot_and_save_images(data, interval, output_dir):\n",
    "    for start in range(0, len(data) - interval, interval):\n",
    "        end = start + interval\n",
    "        segment = data[start:end]\n",
    "        plt.figure(figsize=(10, 5), dpi=300)\n",
    "        plt.plot(segment.index, segment['Price'], linewidth=3)\n",
    "        plt.title(f\"Gold Price from {segment.index[0]} to {segment.index[-1]}\")\n",
    "        plt.xlabel(\"Date\")\n",
    "        plt.ylabel(\"Price\")\n",
    "        #plt.savefig(f\"{output_dir}/gold_price_{start}_{end}.png\")\n",
    "        #plt.close()\n",
    "\"\"\""
   ]
  },
  {
   "cell_type": "code",
   "execution_count": 15,
   "metadata": {},
   "outputs": [
    {
     "data": {
      "text/plain": [
       "'\\ndef plot_images_test(data, interval, output_dir):\\n    for start in range(0, len(data) - interval, interval):\\n        end = start + interval\\n        segment = data[start:end]\\n        \\n        for label in segment.columns:\\n            plt.figure(figsize=(10, 5), dpi=300)\\n            plt.plot(segment.index, segment[label], linewidth=3)\\n            plt.title(f\"{label} from {segment.index[0]} to {segment.index[-1]}\")\\n            plt.xlabel(\"Date\")\\n            plt.ylabel(label)\\n            \\n            # Extract the day part from the date index\\n            day_labels = segment.index.to_series().apply(lambda x: pd.to_datetime(x).day)\\n            \\n            # Set x-ticks to show only the day part\\n            plt.xticks(ticks=segment.index, labels=day_labels, rotation=90)\\n            # add grid line\\n            plt.grid(True)\\n            plt.savefig(f\"{output_dir}/{label}_{segment.index[0]}_{segment.index[-1]}.png\")\\n            plt.close()\\n'"
      ]
     },
     "execution_count": 15,
     "metadata": {},
     "output_type": "execute_result"
    }
   ],
   "source": [
    "# Function to plot and save images - v 0.0.1\n",
    "\"\"\"\n",
    "def plot_images_test(data, interval, output_dir):\n",
    "    for start in range(0, len(data) - interval, interval):\n",
    "        end = start + interval\n",
    "        segment = data[start:end]\n",
    "        \n",
    "        for label in segment.columns:\n",
    "            plt.figure(figsize=(10, 5), dpi=300)\n",
    "            plt.plot(segment.index, segment[label], linewidth=3)\n",
    "            plt.title(f\"{label} from {segment.index[0]} to {segment.index[-1]}\")\n",
    "            plt.xlabel(\"Date\")\n",
    "            plt.ylabel(label)\n",
    "            \n",
    "            # Extract the day part from the date index\n",
    "            day_labels = segment.index.to_series().apply(lambda x: pd.to_datetime(x).day)\n",
    "            \n",
    "            # Set x-ticks to show only the day part\n",
    "            plt.xticks(ticks=segment.index, labels=day_labels, rotation=90)\n",
    "            # add grid line\n",
    "            plt.grid(True)\n",
    "            plt.savefig(f\"{output_dir}/{label}_{segment.index[0]}_{segment.index[-1]}.png\")\n",
    "            plt.close()\n",
    "\"\"\""
   ]
  },
  {
   "cell_type": "code",
   "execution_count": 16,
   "metadata": {},
   "outputs": [
    {
     "data": {
      "text/html": [
       "<div>\n",
       "<style scoped>\n",
       "    .dataframe tbody tr th:only-of-type {\n",
       "        vertical-align: middle;\n",
       "    }\n",
       "\n",
       "    .dataframe tbody tr th {\n",
       "        vertical-align: top;\n",
       "    }\n",
       "\n",
       "    .dataframe thead th {\n",
       "        text-align: right;\n",
       "    }\n",
       "</style>\n",
       "<table border=\"1\" class=\"dataframe\">\n",
       "  <thead>\n",
       "    <tr style=\"text-align: right;\">\n",
       "      <th></th>\n",
       "      <th>Open</th>\n",
       "      <th>High</th>\n",
       "      <th>Low</th>\n",
       "      <th>Close</th>\n",
       "      <th>Volume</th>\n",
       "    </tr>\n",
       "    <tr>\n",
       "      <th>Date</th>\n",
       "      <th></th>\n",
       "      <th></th>\n",
       "      <th></th>\n",
       "      <th></th>\n",
       "      <th></th>\n",
       "    </tr>\n",
       "  </thead>\n",
       "  <tbody>\n",
       "    <tr>\n",
       "      <th>2023-07-20</th>\n",
       "      <td>1973.699951</td>\n",
       "      <td>1973.699951</td>\n",
       "      <td>1965.599976</td>\n",
       "      <td>1968.300049</td>\n",
       "      <td>638</td>\n",
       "    </tr>\n",
       "    <tr>\n",
       "      <th>2023-07-21</th>\n",
       "      <td>1961.800049</td>\n",
       "      <td>1964.300049</td>\n",
       "      <td>1961.800049</td>\n",
       "      <td>1964.300049</td>\n",
       "      <td>50</td>\n",
       "    </tr>\n",
       "    <tr>\n",
       "      <th>2023-07-24</th>\n",
       "      <td>1965.300049</td>\n",
       "      <td>1965.500000</td>\n",
       "      <td>1960.300049</td>\n",
       "      <td>1960.300049</td>\n",
       "      <td>2</td>\n",
       "    </tr>\n",
       "    <tr>\n",
       "      <th>2023-07-25</th>\n",
       "      <td>1953.000000</td>\n",
       "      <td>1962.500000</td>\n",
       "      <td>1953.000000</td>\n",
       "      <td>1962.099976</td>\n",
       "      <td>19</td>\n",
       "    </tr>\n",
       "    <tr>\n",
       "      <th>2023-07-26</th>\n",
       "      <td>1966.199951</td>\n",
       "      <td>1972.000000</td>\n",
       "      <td>1966.199951</td>\n",
       "      <td>1968.900024</td>\n",
       "      <td>51</td>\n",
       "    </tr>\n",
       "    <tr>\n",
       "      <th>2023-07-27</th>\n",
       "      <td>1945.400024</td>\n",
       "      <td>1945.400024</td>\n",
       "      <td>1945.400024</td>\n",
       "      <td>1945.400024</td>\n",
       "      <td>194253</td>\n",
       "    </tr>\n",
       "    <tr>\n",
       "      <th>2023-07-28</th>\n",
       "      <td>1945.500000</td>\n",
       "      <td>1962.199951</td>\n",
       "      <td>1944.199951</td>\n",
       "      <td>1960.400024</td>\n",
       "      <td>23155</td>\n",
       "    </tr>\n",
       "  </tbody>\n",
       "</table>\n",
       "</div>"
      ],
      "text/plain": [
       "                   Open         High          Low        Close  Volume\n",
       "Date                                                                  \n",
       "2023-07-20  1973.699951  1973.699951  1965.599976  1968.300049     638\n",
       "2023-07-21  1961.800049  1964.300049  1961.800049  1964.300049      50\n",
       "2023-07-24  1965.300049  1965.500000  1960.300049  1960.300049       2\n",
       "2023-07-25  1953.000000  1962.500000  1953.000000  1962.099976      19\n",
       "2023-07-26  1966.199951  1972.000000  1966.199951  1968.900024      51\n",
       "2023-07-27  1945.400024  1945.400024  1945.400024  1945.400024  194253\n",
       "2023-07-28  1945.500000  1962.199951  1944.199951  1960.400024   23155"
      ]
     },
     "execution_count": 16,
     "metadata": {},
     "output_type": "execute_result"
    }
   ],
   "source": [
    "data_test = df_one_year.head(7)\n",
    "data_test"
   ]
  },
  {
   "cell_type": "code",
   "execution_count": 17,
   "metadata": {},
   "outputs": [],
   "source": [
    "def plot_and_save(data: pd.DataFrame, interval: int = 10, output_dir: str = \"/\", plot_trend: str = \"\", label_on: bool = False) -> None:\n",
    "    \"\"\" A method that plots and saves the targeted segment. \n",
    "        \n",
    "        parameters\n",
    "        ----------\n",
    "        data : pd.DataFrame\n",
    "            DataFrame containing the data to be plotted.\n",
    "        interval : int, default 10\n",
    "            Specified date interval (days) to segment the data.\n",
    "        output_dir : str, default \"/\"\n",
    "            Directory to save the images.\n",
    "        label_on : bool, default False\n",
    "            Flag to determine if labels should be included in the plot.\n",
    "        \n",
    "        returns\n",
    "        -------\n",
    "        None\n",
    "\n",
    "        ***Cautions: all candlesticks figures require open, high, low and close \n",
    "        to form a candlestick that's why we use mplfinance module. \n",
    "        For adding trend line, we customize with addplot option in the mplfinance module.***\n",
    "        \"\"\"\n",
    "    # initialize starting point index\n",
    "    start = 0\n",
    "    # initialize data length\n",
    "    data_length = len(data)\n",
    "    # while start is less than the data length\n",
    "    while start < data_length:\n",
    "        # create end point <this is for to remove the excessive days>\n",
    "        end = min(start + interval, data_length)\n",
    "        # segment the dataframe with the specifed start and end index\n",
    "        segment = data[start:end]\n",
    "\n",
    "        # a list to add additional plots for OHLC <Open, High, Low, Close> trend line\n",
    "        trend_plots = [\n",
    "            # open - gold color\n",
    "            mpf.make_addplot(segment['Open'], color='#FFD700'), # linestyle='--'\n",
    "            # close - teal color\n",
    "            mpf.make_addplot(segment['Close'], color='#008080'),\n",
    "            # high - black color\n",
    "            mpf.make_addplot(segment['High'], color='#000000'),\n",
    "            # low - blue color\n",
    "            mpf.make_addplot(segment['Low'], color='#0000FF')\n",
    "        ]\n",
    "        # loop through all columns in the segment\n",
    "        for label in segment.columns:\n",
    "            # create a candlestick plot\n",
    "            # image title \n",
    "            title = f\"Gold Market Prices from {segment.index[0]} to {segment.index[-1]}\"\n",
    "            # initialize and format start date\n",
    "            start_date = segment.index[0].strftime(\"%Y-%m-%d_%H-%M-%S\")\n",
    "            # initialize and format end date\n",
    "            end_date = segment.index[-1].strftime(\"%Y-%m-%d_%H-%M-%S\")\n",
    "            # create file name <e.g. start_date_end_date_\"OHLC\".png>\n",
    "            file_name = f\"{output_dir}/{start_date}_{end_date}_{plot_trend}.png\" \n",
    "            # arguments for plotting\n",
    "            plot_args = {\n",
    "                # style\n",
    "                'style': 'charles',\n",
    "                # x-ticks format in year month<in text> day\n",
    "                'datetime_format': '%y %b %d',\n",
    "                # y label\n",
    "                'ylabel': 'Price in $',\n",
    "                # x label\n",
    "                'xlabel': 'Date',\n",
    "                # saving images removing excessive white space around the candle_sticks and trend lines\n",
    "                'savefig': dict(fname=file_name, dpi=300, bbox_inches='tight', pad_inches=0.1),\n",
    "            }\n",
    "\n",
    "\n",
    "            # for label on savings\n",
    "            if label_on:\n",
    "                # add title\n",
    "                plot_args['title'] = title\n",
    "                # for open trend, including candlestick  \n",
    "                if plot_trend.lower() == \"open\":\n",
    "                    mpf.plot(segment, type='candle', addplot=trend_plots[0], **plot_args)\n",
    "                # for close trend, including candlestick  \n",
    "                elif plot_trend.lower() == \"close\":\n",
    "                    mpf.plot(segment, type='candle', addplot=trend_plots[1], **plot_args)\n",
    "                # for high trend, including candlestick  \n",
    "                elif plot_trend.lower() == \"high\":\n",
    "                    mpf.plot(segment, type='candle', addplot=trend_plots[2], **plot_args)\n",
    "                # for low trend, including candlestick  \n",
    "                elif plot_trend.lower() == \"low\":\n",
    "                    mpf.plot(segment, type='candle', addplot=trend_plots[3], **plot_args)\n",
    "                # for all OHLC trends, including candlestick  \n",
    "                elif plot_trend.lower() == \"all\":\n",
    "                    mpf.plot(segment, type='candle', addplot=trend_plots, **plot_args)\n",
    "                # no trend line, just the candle sticks\n",
    "                else:\n",
    "                    mpf.plot(segment, type='candle', **plot_args)\n",
    "\n",
    "            # for label off savings\n",
    "            else:\n",
    "                # off the x-axis and y-axis\n",
    "                plot_args['axisoff'] = True\n",
    "                # for open trend, including candlestick  \n",
    "                if plot_trend.lower() == \"open\":\n",
    "                    mpf.plot(segment, type='candle', addplot=trend_plots[0], **plot_args)\n",
    "                # for close trend, including candlestick \n",
    "                elif plot_trend.lower() == \"close\":\n",
    "                    mpf.plot(segment, type='candle', addplot=trend_plots[1], **plot_args)\n",
    "                # for high trend, including candlestick  \n",
    "                elif plot_trend.lower() == \"high\":\n",
    "                    mpf.plot(segment, type='candle', addplot=trend_plots[2], **plot_args)\n",
    "                # for low trend, including candlestick \n",
    "                elif plot_trend.lower() == \"low\":\n",
    "                    mpf.plot(segment, type='candle', addplot=trend_plots[3], **plot_args)\n",
    "                # for all OHLC trends, including candlestick\n",
    "                elif plot_trend.lower() == \"all\":\n",
    "                    mpf.plot(segment, type='candle', addplot=trend_plots, **plot_args)\n",
    "                # no trend line, just the candle sticks\n",
    "                else:\n",
    "                    mpf.plot(segment, type='candle', **plot_args)\n",
    "\n",
    "            # tight layout for removing white spaces\n",
    "            plt.tight_layout()\n",
    "            # close the image\n",
    "            plt.close()\n",
    "        # increment the start index by the interval\n",
    "        start += interval"
   ]
  },
  {
   "cell_type": "code",
   "execution_count": 18,
   "metadata": {},
   "outputs": [],
   "source": [
    "def plot_data_and_save_label_on_1_yr():\n",
    "    # open trend, label off\n",
    "    plot_and_save(df_one_year, interval=15, output_dir='images//one_year_data//patterns_labels//open', plot_trend = \"open\", label_on=True)\n",
    "    # close trend, label off\n",
    "    plot_and_save(df_one_year, interval=15, output_dir='images//one_year_data//patterns_labels//close', plot_trend = \"close\", label_on=True)\n",
    "    # high trend, label off\n",
    "    plot_and_save(df_one_year, interval=15, output_dir='images//one_year_data//patterns_labels//high', plot_trend = \"high\", label_on=True)\n",
    "    # low trend, label off\n",
    "    plot_and_save(df_one_year, interval=15, output_dir='images//one_year_data//patterns_labels//low', plot_trend = \"low\", label_on=True)\n",
    "    # OHLC trends, label off\n",
    "    plot_and_save(df_one_year, interval=15, output_dir='images//one_year_data//patterns_labels//all', plot_trend = \"all\", label_on=True)\n",
    "    # no trend line, label off\n",
    "    plot_and_save(df_one_year, interval=15, output_dir='images//one_year_data//patterns_labels//no_trend_line', label_on=True)"
   ]
  },
  {
   "cell_type": "code",
   "execution_count": 19,
   "metadata": {},
   "outputs": [],
   "source": [
    "plot_data_and_save_label_on_1_yr()"
   ]
  },
  {
   "cell_type": "code",
   "execution_count": 20,
   "metadata": {},
   "outputs": [],
   "source": [
    "def plot_data_and_save_label_off_1_yr():\n",
    "    # open trend, label off\n",
    "    plot_and_save(df_one_year, interval=15, output_dir='images//one_year_data//patterns_no_labels//open', plot_trend = \"open\")\n",
    "    # close trend, label off\n",
    "    plot_and_save(df_one_year, interval=15, output_dir='images//one_year_data//patterns_no_labels//close', plot_trend = \"close\")\n",
    "    # high trend, label off\n",
    "    plot_and_save(df_one_year, interval=15, output_dir='images//one_year_data//patterns_no_labels//high', plot_trend = \"high\")\n",
    "    # low trend, label off\n",
    "    plot_and_save(df_one_year, interval=15, output_dir='images//one_year_data//patterns_no_labels//low', plot_trend = \"low\")\n",
    "    # OHLC trends, label off\n",
    "    plot_and_save(df_one_year, interval=15, output_dir='images//one_year_data//patterns_no_labels//all', plot_trend = \"all\")\n",
    "    # no trend line, label off\n",
    "    plot_and_save(df_one_year, interval=15, output_dir='images//one_year_data//patterns_no_labels//no_trend_line')"
   ]
  },
  {
   "cell_type": "code",
   "execution_count": 21,
   "metadata": {},
   "outputs": [],
   "source": [
    "plot_data_and_save_label_off_1_yr()"
   ]
  },
  {
   "cell_type": "markdown",
   "metadata": {},
   "source": [
    "### Run separately, use a lot of memory to collect ten years data."
   ]
  },
  {
   "cell_type": "code",
   "execution_count": 22,
   "metadata": {},
   "outputs": [],
   "source": [
    "# open trend, label on\n",
    "plot_and_save(df_ten_year, interval=15, output_dir='images//ten_year_data//patterns_labels//open', plot_trend = \"open\", label_on=True)"
   ]
  },
  {
   "cell_type": "code",
   "execution_count": 23,
   "metadata": {},
   "outputs": [],
   "source": [
    "# close trend, label on\n",
    "plot_and_save(df_ten_year, interval=15, output_dir='images//ten_year_data//patterns_labels//close', plot_trend = \"close\", label_on=True)"
   ]
  },
  {
   "cell_type": "code",
   "execution_count": 24,
   "metadata": {},
   "outputs": [],
   "source": [
    "# high trend, label on\n",
    "plot_and_save(df_ten_year, interval=15, output_dir='images//ten_year_data//patterns_labels//high', plot_trend = \"high\", label_on=True)"
   ]
  },
  {
   "cell_type": "code",
   "execution_count": 25,
   "metadata": {},
   "outputs": [],
   "source": [
    "# low trend, label on\n",
    "plot_and_save(df_ten_year, interval=15, output_dir='images//ten_year_data//patterns_labels//low', plot_trend = \"low\", label_on=True)"
   ]
  },
  {
   "cell_type": "code",
   "execution_count": 26,
   "metadata": {},
   "outputs": [],
   "source": [
    "# OHLC trends, label on\n",
    "plot_and_save(df_ten_year, interval=15, output_dir='images//ten_year_data//patterns_labels//all', plot_trend = \"all\", label_on=True)"
   ]
  },
  {
   "cell_type": "code",
   "execution_count": 27,
   "metadata": {},
   "outputs": [],
   "source": [
    "# no trend line, label on\n",
    "plot_and_save(df_ten_year, interval=15, output_dir='images//ten_year_data//patterns_labels//no_trend_line', label_on=True)"
   ]
  },
  {
   "cell_type": "code",
   "execution_count": 28,
   "metadata": {},
   "outputs": [],
   "source": [
    "# open trend, label off\n",
    "plot_and_save(df_ten_year, interval=15, output_dir='images//ten_year_data//patterns_no_labels//open', plot_trend = \"open\")"
   ]
  },
  {
   "cell_type": "code",
   "execution_count": 29,
   "metadata": {},
   "outputs": [],
   "source": [
    "# close trend, label off\n",
    "plot_and_save(df_ten_year, interval=15, output_dir='images//ten_year_data//patterns_no_labels//close', plot_trend = \"close\")"
   ]
  },
  {
   "cell_type": "code",
   "execution_count": 30,
   "metadata": {},
   "outputs": [],
   "source": [
    "# high trend, label off\n",
    "plot_and_save(df_ten_year, interval=15, output_dir='images//ten_year_data//patterns_no_labels//high', plot_trend = \"high\")"
   ]
  },
  {
   "cell_type": "code",
   "execution_count": 31,
   "metadata": {},
   "outputs": [],
   "source": [
    "# low trend, label off\n",
    "plot_and_save(df_ten_year, interval=15, output_dir='images//ten_year_data//patterns_no_labels//low', plot_trend = \"low\")"
   ]
  },
  {
   "cell_type": "code",
   "execution_count": 32,
   "metadata": {},
   "outputs": [],
   "source": [
    "# OHLC trends, label off\n",
    "plot_and_save(df_ten_year, interval=15, output_dir='images//ten_year_data//patterns_no_labels//all', plot_trend = \"all\")"
   ]
  },
  {
   "cell_type": "code",
   "execution_count": 33,
   "metadata": {},
   "outputs": [],
   "source": [
    "# no trend line, label off\n",
    "plot_and_save(df_ten_year, interval=15, output_dir='images//ten_year_data//patterns_no_labels//no_trend_line')"
   ]
  }
 ],
 "metadata": {
  "kernelspec": {
   "display_name": "Python 3",
   "language": "python",
   "name": "python3"
  },
  "language_info": {
   "codemirror_mode": {
    "name": "ipython",
    "version": 3
   },
   "file_extension": ".py",
   "mimetype": "text/x-python",
   "name": "python",
   "nbconvert_exporter": "python",
   "pygments_lexer": "ipython3",
   "version": "3.10.0"
  }
 },
 "nbformat": 4,
 "nbformat_minor": 2
}
